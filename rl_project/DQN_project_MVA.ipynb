{
  "nbformat": 4,
  "nbformat_minor": 0,
  "metadata": {
    "kernelspec": {
      "name": "python3",
      "display_name": "Python 3"
    },
    "language_info": {
      "codemirror_mode": {
        "name": "ipython",
        "version": 3
      },
      "file_extension": ".py",
      "mimetype": "text/x-python",
      "name": "python",
      "nbconvert_exporter": "python",
      "pygments_lexer": "ipython3",
      "version": "3.5.7"
    },
    "colab": {
      "name": "DQN_project_MVA.ipynb",
      "provenance": [],
      "collapsed_sections": []
    },
    "accelerator": "GPU"
  },
  "cells": [
    {
      "cell_type": "markdown",
      "metadata": {
        "id": "HqbbFa_EhmSU",
        "colab_type": "text"
      },
      "source": [
        "**You may need to install [OpenCV](https://pypi.python.org/pypi/opencv-python) and [scikit-video](http://www.scikit-video.org/stable/).**"
      ]
    },
    {
      "cell_type": "code",
      "metadata": {
        "id": "CgDFqRrfhuGU",
        "colab_type": "code",
        "outputId": "cd715183-0dfd-4e08-d74d-57e9ddb455cd",
        "colab": {
          "base_uri": "https://localhost:8080/",
          "height": 173
        }
      },
      "source": [
        "!pip install scikit-video"
      ],
      "execution_count": 1,
      "outputs": [
        {
          "output_type": "stream",
          "text": [
            "Collecting scikit-video\n",
            "\u001b[?25l  Downloading https://files.pythonhosted.org/packages/b1/a6/c69cad508139a342810ae46e946ebb3256aa6e42f690d901bb68f50582e3/scikit_video-1.1.11-py2.py3-none-any.whl (2.3MB)\n",
            "\u001b[K     |████████████████████████████████| 2.3MB 3.5MB/s \n",
            "\u001b[?25hRequirement already satisfied: pillow in /usr/local/lib/python3.6/dist-packages (from scikit-video) (6.2.2)\n",
            "Requirement already satisfied: numpy in /usr/local/lib/python3.6/dist-packages (from scikit-video) (1.17.5)\n",
            "Requirement already satisfied: scipy in /usr/local/lib/python3.6/dist-packages (from scikit-video) (1.4.1)\n",
            "Installing collected packages: scikit-video\n",
            "Successfully installed scikit-video-1.1.11\n"
          ],
          "name": "stdout"
        }
      ]
    },
    {
      "cell_type": "code",
      "metadata": {
        "id": "6VTVdYfSJ0BQ",
        "colab_type": "code",
        "colab": {}
      },
      "source": [
        "# !pip install -U tensorFlow"
      ],
      "execution_count": 0,
      "outputs": []
    },
    {
      "cell_type": "code",
      "metadata": {
        "id": "XN0dPAYTIoNi",
        "colab_type": "code",
        "colab": {}
      },
      "source": [
        "# !pip uninstall tf-nightly-gpu"
      ],
      "execution_count": 0,
      "outputs": []
    },
    {
      "cell_type": "code",
      "metadata": {
        "id": "V2eq2h7VhmSY",
        "colab_type": "code",
        "outputId": "bc837513-682d-4364-8b72-793d13b54b1e",
        "colab": {
          "base_uri": "https://localhost:8080/",
          "height": 97
        }
      },
      "source": [
        "import keras \n",
        "import numpy as np\n",
        "import io\n",
        "import base64\n",
        "from IPython.display import HTML\n",
        "import skvideo.io\n",
        "import cv2\n",
        "import json\n",
        "\n",
        "import tensorflow as tf\n",
        "from keras.models import Sequential,model_from_json\n",
        "from keras.layers.core import Dense\n",
        "from keras.optimizers import sgd\n",
        "from keras.layers import Conv2D, MaxPooling2D, Activation, AveragePooling2D,Reshape,BatchNormalization, Flatten, Dropout\n",
        "\n",
        "import warnings\n",
        "warnings.simplefilter('ignore')\n",
        "tf.test.gpu_device_name()"
      ],
      "execution_count": 2,
      "outputs": [
        {
          "output_type": "stream",
          "text": [
            "Using TensorFlow backend.\n"
          ],
          "name": "stderr"
        },
        {
          "output_type": "display_data",
          "data": {
            "text/html": [
              "<p style=\"color: red;\">\n",
              "The default version of TensorFlow in Colab will soon switch to TensorFlow 2.x.<br>\n",
              "We recommend you <a href=\"https://www.tensorflow.org/guide/migrate\" target=\"_blank\">upgrade</a> now \n",
              "or ensure your notebook will continue to use TensorFlow 1.x via the <code>%tensorflow_version 1.x</code> magic:\n",
              "<a href=\"https://colab.research.google.com/notebooks/tensorflow_version.ipynb\" target=\"_blank\">more info</a>.</p>\n"
            ],
            "text/plain": [
              "<IPython.core.display.HTML object>"
            ]
          },
          "metadata": {
            "tags": []
          }
        },
        {
          "output_type": "execute_result",
          "data": {
            "text/plain": [
              "'/device:GPU:0'"
            ]
          },
          "metadata": {
            "tags": []
          },
          "execution_count": 2
        }
      ]
    },
    {
      "cell_type": "markdown",
      "metadata": {
        "id": "Jx2OUPlchmSe",
        "colab_type": "text"
      },
      "source": [
        "# MiniProject on Deep Reinforcement Learning"
      ]
    },
    {
      "cell_type": "markdown",
      "metadata": {
        "id": "z4NL7NJDhmSg",
        "colab_type": "text"
      },
      "source": [
        "__Notations__: $E_p$ is the expectation under probability $p$. Please justify each of your answer and widely comment your code."
      ]
    },
    {
      "cell_type": "markdown",
      "metadata": {
        "id": "DNsKGc0khmSh",
        "colab_type": "text"
      },
      "source": [
        "# Context"
      ]
    },
    {
      "cell_type": "markdown",
      "metadata": {
        "id": "cVqKSVmJhmSi",
        "colab_type": "text"
      },
      "source": [
        "In a reinforcement learning algorithm, we modelize each step $t$ as an action $a_t$ obtained from a state $s_t$, i.e. $\\{(a_{t},s_{t})_{t\\leq T}\\}$ having the Markov property. We consider a discount factor $\\gamma \\in [0,1]$ that ensures convergence. The goal is to find among all the policies $\\pi$, one that maximizes the expected reward:\n",
        "\n",
        "\\begin{equation*}\n",
        "R(\\pi)=\\sum_{t\\leq T}E_{p^{\\pi}}[\\gamma^t r(s_{t},a_{t})] \\> ,\n",
        "\\end{equation*}\n",
        "\n",
        "where: \n",
        "\\begin{equation*}p^{\\pi}(a_{0},a_{1},s_{1},...,a_{T},s_{T})=p(a_{0})\\prod_{t=1}^{T}\\pi(a_{t}|s_{t})p(s_{t+1}|s_{t},a_{t}) \\> .\n",
        "\\end{equation*}\n",
        "\n",
        "We note the $Q$-function:\n",
        "\n",
        "\\begin{equation*}Q^\\pi(s,a)=E_{p^{\\pi}}[\\sum_{t\\leq T}\\gamma^{t}r(s_{t},a_{t})|s_{0}=s,a_{0}=a] \\> .\n",
        "\\end{equation*}\n",
        "\n",
        "Thus, the optimal Q function is:\n",
        "\\begin{equation*}\n",
        "Q^*(s,a)=\\max_{\\pi}Q^\\pi(s,a) \\> .\n",
        "\\end{equation*}\n",
        "\n",
        "In this project, we will apply the deep reinforcement learning techniques to a simple game: an agent will have to learn from scratch a policy that will permit it maximizing a reward."
      ]
    },
    {
      "cell_type": "markdown",
      "metadata": {
        "id": "DLjoeFxYhmSk",
        "colab_type": "text"
      },
      "source": [
        "## The environment, the agent and the game"
      ]
    },
    {
      "cell_type": "markdown",
      "metadata": {
        "id": "ymS5p8bBhmSm",
        "colab_type": "text"
      },
      "source": [
        "### The environment"
      ]
    },
    {
      "cell_type": "markdown",
      "metadata": {
        "id": "IajQ1gJHhmSn",
        "colab_type": "text"
      },
      "source": [
        "```Environment``` is an abstract class that represents the states, rewards, and actions to obtain the new state."
      ]
    },
    {
      "cell_type": "code",
      "metadata": {
        "id": "1SFfXFpJhmSo",
        "colab_type": "code",
        "colab": {}
      },
      "source": [
        "class Environment(object):\n",
        "    def __init__(self):\n",
        "        pass\n",
        "\n",
        "    def act(self, act):\n",
        "        \"\"\"\n",
        "        One can act on the environment and obtain its reaction:\n",
        "        - the new state\n",
        "        - the reward of the new state\n",
        "        - should we continue the game?\n",
        "\n",
        "        :return: state, reward, game_over\n",
        "        \"\"\"\n",
        "        pass\n",
        "\n",
        "\n",
        "    def reset(self):\n",
        "        \"\"\"\n",
        "        Reinitialize the environment to a random state and returns\n",
        "        the original state\n",
        "\n",
        "        :return: state\n",
        "        \"\"\"\n",
        "        pass\n",
        "    \n",
        "    def draw(self):\n",
        "        \"\"\"\n",
        "        Visualize in the console or graphically the current state\n",
        "        \"\"\"\n",
        "        pass"
      ],
      "execution_count": 0,
      "outputs": []
    },
    {
      "cell_type": "markdown",
      "metadata": {
        "id": "j2cbnz-UhmSt",
        "colab_type": "text"
      },
      "source": [
        "The method ```act``` allows to act on the environment at a given state $s_t$ (stored internally), via action $a_t$. The method will return the new state $s_{t+1}$, the reward $r(s_{t},a_{t})$ and determines if $t\\leq T$ (*game_over*).\n",
        "\n",
        "The method ```reset``` simply reinitializes the environment to a random state $s_0$.\n",
        "\n",
        "The method ```draw``` displays the current state $s_t$ (this is useful to check the behavior of the Agent).\n",
        "\n",
        "We modelize $s_t$ as a tensor, while $a_t$ is an integer."
      ]
    },
    {
      "cell_type": "markdown",
      "metadata": {
        "id": "S6ulML_ChmSv",
        "colab_type": "text"
      },
      "source": [
        "### The Agent"
      ]
    },
    {
      "cell_type": "markdown",
      "metadata": {
        "id": "ks7Ku6oShmSw",
        "colab_type": "text"
      },
      "source": [
        "The goal of the ```Agent``` is to interact with the ```Environment``` by proposing actions $a_t$ obtained from a given state $s_t$ to attempt to maximize its __reward__ $r(s_t,a_t)$. We propose the following abstract class:"
      ]
    },
    {
      "cell_type": "code",
      "metadata": {
        "id": "9AfRfwVahmSx",
        "colab_type": "code",
        "colab": {}
      },
      "source": [
        "class Agent(object):\n",
        "    def __init__(self, epsilon=0.1, n_action=4):\n",
        "        self.epsilon = epsilon\n",
        "        self.n_action = n_action\n",
        "    \n",
        "    def set_epsilon(self,e):\n",
        "        self.epsilon = e\n",
        "\n",
        "    def act(self, s, train=False):\n",
        "        \"\"\" This function should return the next action to do:\n",
        "        an integer between 0 and 4 (not included) with a random exploration of epsilon\"\"\"\n",
        "        if train:\n",
        "            if np.random.rand() <= self.epsilon:\n",
        "                a = np.random.randint(0, self.n_action, size=1)[0]\n",
        "            else:\n",
        "                a = self.learned_act(s)\n",
        "        else: # in some cases, this can improve the performance.. remove it if poor performances\n",
        "            a = self.learned_act(s)\n",
        "\n",
        "        return a\n",
        "\n",
        "    def learned_act(self,s):\n",
        "        \"\"\" Act via the policy of the agent, from a given state s\n",
        "        it proposes an action a\"\"\"\n",
        "        pass\n",
        "\n",
        "    def reinforce(self, s, n_s, a, r, game_over_):\n",
        "        \"\"\" This function is the core of the learning algorithm. \n",
        "        It takes as an input the current state s_, the next state n_s_\n",
        "        the action a_ used to move from s_ to n_s_ and the reward r_.\n",
        "        \n",
        "        Its goal is to learn a policy.\n",
        "        \"\"\"\n",
        "        pass\n",
        "\n",
        "    def save(self):\n",
        "        \"\"\" This function returns basic stats if applicable: the\n",
        "        loss and/or the model\"\"\"\n",
        "        pass\n",
        "\n",
        "    def load(self):\n",
        "        \"\"\" This function allows to restore a model\"\"\"\n",
        "        pass"
      ],
      "execution_count": 0,
      "outputs": []
    },
    {
      "cell_type": "markdown",
      "metadata": {
        "id": "dZuSyFWqhmS2",
        "colab_type": "text"
      },
      "source": [
        "***\n",
        "__Question 1__:\n",
        "Explain the function act. Why is ```epsilon``` essential?"
      ]
    },
    {
      "cell_type": "markdown",
      "metadata": {
        "id": "Lw-XLmD4hmS3",
        "colab_type": "text"
      },
      "source": [
        "The function act is reprsenting a $\\epsilon$ greedy version of the learned policy with a reinforcement learning method. In fact, it's a way of selecting random actions with uniform distribution from a set of available actions with a certain probability in order to push the agent to explore the environemment and not just acting with the learned policy."
      ]
    },
    {
      "cell_type": "markdown",
      "metadata": {
        "id": "7pL3dp_khmS4",
        "colab_type": "text"
      },
      "source": [
        "***\n",
        "### The Game"
      ]
    },
    {
      "cell_type": "markdown",
      "metadata": {
        "id": "RFhiCum1hmS5",
        "colab_type": "text"
      },
      "source": [
        "The ```Agent``` and the ```Environment``` work in an interlaced way as in the following (take some time to understand this code as it is the core of the project)\n",
        "\n",
        "```python\n",
        "\n",
        "epoch = 300\n",
        "env = Environment()\n",
        "agent = Agent()\n",
        "\n",
        "\n",
        "# Number of won games\n",
        "score = 0\n",
        "loss = 0\n",
        "\n",
        "\n",
        "for e in range(epoch):\n",
        "    # At each epoch, we restart to a fresh game and get the initial state\n",
        "    state = env.reset()\n",
        "    # This assumes that the games will end\n",
        "    game_over = False\n",
        "\n",
        "    win = 0\n",
        "    lose = 0\n",
        "    \n",
        "    while not game_over:\n",
        "        # The agent performs an action\n",
        "        action = agent.act(state)\n",
        "\n",
        "        # Apply an action to the environment, get the next state, the reward\n",
        "        # and if the games end\n",
        "        prev_state = state\n",
        "        state, reward, game_over = env.act(action)\n",
        "\n",
        "        # Update the counters\n",
        "        if reward > 0:\n",
        "            win = win + reward\n",
        "        if reward < 0:\n",
        "            lose = lose -reward\n",
        "\n",
        "        # Apply the reinforcement strategy\n",
        "        loss = agent.reinforce(prev_state, state,  action, reward, game_over)\n",
        "\n",
        "    # Save as a mp4\n",
        "    if e % 10 == 0:\n",
        "        env.draw(e)\n",
        "\n",
        "    # Update stats\n",
        "    score += win-lose\n",
        "\n",
        "    print(\"Epoch {:03d}/{:03d} | Loss {:.4f} | Win/lose count {}/{} ({})\"\n",
        "          .format(e, epoch, loss, win, lose, win-lose))\n",
        "    agent.save()\n",
        "```"
      ]
    },
    {
      "cell_type": "markdown",
      "metadata": {
        "id": "IRf_UA0rhmS7",
        "colab_type": "text"
      },
      "source": [
        "# The game, *eat cheese*"
      ]
    },
    {
      "cell_type": "markdown",
      "metadata": {
        "id": "sB6dABXFhmS8",
        "colab_type": "text"
      },
      "source": [
        "A rat runs on an island and tries to eat as much as possible. The island is subdivided into $N\\times N$ cells, in which there are cheese (+0.5) and poisonous cells (-1). The rat has a visibility of 2 cells (thus it can see $5^2$ cells). The rat is given a time $T$ to accumulate as much food as possible. It can perform 4 actions: going up, down, left, right. \n",
        "\n",
        "The goal is to code an agent to solve this task that will learn by trial and error. We propose the following environment:"
      ]
    },
    {
      "cell_type": "code",
      "metadata": {
        "id": "MX4HmmSchmS9",
        "colab_type": "code",
        "colab": {}
      },
      "source": [
        "class Environment(object):\n",
        "    def __init__(self, grid_size=10, max_time=500, temperature=0.1):\n",
        "      \n",
        "        grid_size = grid_size+4\n",
        "        self.grid_size = grid_size\n",
        "        self.max_time = max_time\n",
        "        self.temperature = temperature\n",
        "\n",
        "        #board on which one plays\n",
        "        self.board = np.zeros((grid_size,grid_size))\n",
        "        self.position = np.zeros((grid_size,grid_size))\n",
        "\n",
        "        # coordinate of the cat\n",
        "        self.x = 0\n",
        "        self.y = 1\n",
        "\n",
        "        # self time\n",
        "        self.t = 0\n",
        "\n",
        "        self.scale=16\n",
        "\n",
        "        self.to_draw = np.zeros((max_time+2, grid_size*self.scale, grid_size*self.scale, 3))\n",
        "\n",
        "\n",
        "    def draw(self,e):\n",
        "        skvideo.io.vwrite(str(e) + '.mp4', self.to_draw)\n",
        "\n",
        "    def get_frame(self,t):\n",
        "        b = np.zeros((self.grid_size,self.grid_size,3))+128\n",
        "        b[self.board>0,0] = 256\n",
        "        b[self.board < 0, 2] = 256\n",
        "        b[self.x,self.y,:]=256\n",
        "        b[-2:,:,:]=0\n",
        "        b[:,-2:,:]=0\n",
        "        b[:2,:,:]=0\n",
        "        b[:,:2,:]=0\n",
        "        \n",
        "        b =  cv2.resize(b, None, fx=self.scale, fy=self.scale, interpolation=cv2.INTER_NEAREST)\n",
        "\n",
        "        self.to_draw[t,:,:,:]=b\n",
        "\n",
        "\n",
        "    def act(self, action):\n",
        "        \"\"\"This function returns the new state, reward and decides if the\n",
        "        game ends.\"\"\"\n",
        "\n",
        "        self.get_frame(int(self.t))\n",
        "\n",
        "        self.position = np.zeros((self.grid_size, self.grid_size))\n",
        "\n",
        "        self.position[0:2,:]= -1\n",
        "        self.position[:,0:2] = -1\n",
        "        self.position[-2:, :] = -1\n",
        "        self.position[-2:, :] = -1\n",
        "\n",
        "        self.position[self.x, self.y] = 1\n",
        "        if action == 0:\n",
        "            if self.x == self.grid_size-3:\n",
        "                self.x = self.x-1\n",
        "            else:\n",
        "                self.x = self.x + 1\n",
        "        elif action == 1:\n",
        "            if self.x == 2:\n",
        "                self.x = self.x+1\n",
        "            else:\n",
        "                self.x = self.x-1\n",
        "        elif action == 2:\n",
        "            if self.y == self.grid_size - 3:\n",
        "                self.y = self.y - 1\n",
        "            else:\n",
        "                self.y = self.y + 1\n",
        "        elif action == 3:\n",
        "            if self.y == 2:\n",
        "                self.y = self.y + 1\n",
        "            else:\n",
        "                self.y = self.y - 1\n",
        "        else:\n",
        "            RuntimeError('Error: action not recognized')\n",
        "\n",
        "        self.t = self.t + 1\n",
        "        reward = self.board[self.x, self.y]\n",
        "        self.board[self.x, self.y] = 0\n",
        "        game_over = self.t > self.max_time\n",
        "        state = np.concatenate((self.board.reshape(self.grid_size, self.grid_size,1),\n",
        "                        self.position.reshape(self.grid_size, self.grid_size,1)),axis=2)\n",
        "        state = state[self.x-2:self.x+3,self.y-2:self.y+3,:]\n",
        "\n",
        "        return state, reward, game_over\n",
        "\n",
        "    def reset(self):\n",
        "        \"\"\"This function resets the game and returns the initial state\"\"\"\n",
        "\n",
        "        self.x = np.random.randint(3, self.grid_size-3, size=1)[0]\n",
        "        self.y = np.random.randint(3, self.grid_size-3, size=1)[0]\n",
        "\n",
        "\n",
        "        bonus = 0.5*np.random.binomial(1,self.temperature,size=self.grid_size**2)\n",
        "        bonus = bonus.reshape(self.grid_size,self.grid_size)\n",
        "\n",
        "        malus = -1.0*np.random.binomial(1,self.temperature,size=self.grid_size**2)\n",
        "        malus = malus.reshape(self.grid_size, self.grid_size)\n",
        "\n",
        "        self.to_draw = np.zeros((self.max_time+2, self.grid_size*self.scale, self.grid_size*self.scale, 3))\n",
        "\n",
        "\n",
        "        malus[bonus>0]=0\n",
        "\n",
        "        self.board = bonus + malus\n",
        "\n",
        "        self.position = np.zeros((self.grid_size, self.grid_size))\n",
        "        self.position[0:2,:]= -1\n",
        "        self.position[:,0:2] = -1\n",
        "        self.position[-2:, :] = -1\n",
        "        self.position[-2:, :] = -1\n",
        "        self.board[self.x,self.y] = 0\n",
        "        self.t = 0\n",
        "\n",
        "        state = np.concatenate((\n",
        "                               self.board.reshape(self.grid_size, self.grid_size,1),\n",
        "                        self.position.reshape(self.grid_size, self.grid_size,1)),axis=2)\n",
        "\n",
        "        state = state[self.x - 2:self.x + 3, self.y - 2:self.y + 3, :]\n",
        "        return state"
      ],
      "execution_count": 0,
      "outputs": []
    },
    {
      "cell_type": "markdown",
      "metadata": {
        "id": "myqJtIFIhmTB",
        "colab_type": "text"
      },
      "source": [
        "The following elements are important because they correspond to the hyper parameters for this project:"
      ]
    },
    {
      "cell_type": "code",
      "metadata": {
        "id": "dUcLz_5QhmTC",
        "colab_type": "code",
        "colab": {}
      },
      "source": [
        "# parameters\n",
        "size = 13\n",
        "T=200\n",
        "temperature=0.3\n",
        "epochs_train=21 # set small when debugging\n",
        "epochs_test=11 # set small when debugging\n",
        "\n",
        "# display videos\n",
        "def display_videos(name):\n",
        "    video = io.open(name, 'r+b').read()\n",
        "    encoded = base64.b64encode(video)\n",
        "    return '''<video alt=\"test\" controls>\n",
        "                <source src=\"data:video/mp4;base64,{0}\" type=\"video/mp4\" />\n",
        "             </video>'''.format(encoded.decode('ascii'))"
      ],
      "execution_count": 0,
      "outputs": []
    },
    {
      "cell_type": "markdown",
      "metadata": {
        "id": "_WVfZF2FhmTI",
        "colab_type": "text"
      },
      "source": [
        "__Question 2__ Explain the use of the arrays ```position``` and ```board```."
      ]
    },
    {
      "cell_type": "markdown",
      "metadata": {
        "id": "SY1o8MpnhmTJ",
        "colab_type": "text"
      },
      "source": [
        "* The array **position** enables to have the state of the environemment, it  trakes the movement of the agent (By setting values of the cells where he passed to 1).   \n",
        "* The array **board**  is a abstract representation of the board. It enables to access rewards from the cells that are either a cheese + 0.5, a normal cell +0 or a poison -1 .\n",
        "\n"
      ]
    },
    {
      "cell_type": "markdown",
      "metadata": {
        "id": "ysdCyw3xhmTK",
        "colab_type": "text"
      },
      "source": [
        "## Random Agent"
      ]
    },
    {
      "cell_type": "markdown",
      "metadata": {
        "id": "abYtA_NghmTL",
        "colab_type": "text"
      },
      "source": [
        "***\n",
        "__Question 3__ Implement a random Agent (only ```learned_act``` needs to be implemented):"
      ]
    },
    {
      "cell_type": "code",
      "metadata": {
        "id": "vhyuYB_LhmTM",
        "colab_type": "code",
        "colab": {}
      },
      "source": [
        "class RandomAgent(Agent):\n",
        "    def __init__(self):\n",
        "        super(RandomAgent, self).__init__()\n",
        "        pass\n",
        "\n",
        "    def learned_act(self, s):\n",
        "        \n",
        "        action = np.random.randint(0, self.n_action, size=1)[0]\n",
        "        \n",
        "        return action "
      ],
      "execution_count": 0,
      "outputs": []
    },
    {
      "cell_type": "markdown",
      "metadata": {
        "id": "nm1ZtrjThmTQ",
        "colab_type": "text"
      },
      "source": [
        "***\n",
        "***\n",
        "__Question 4__ Visualize the game moves. You need to fill in the following function for the evaluation:"
      ]
    },
    {
      "cell_type": "code",
      "metadata": {
        "id": "GGK6txiahmTR",
        "colab_type": "code",
        "colab": {}
      },
      "source": [
        "def test(agent,env,epochs,prefix=''):\n",
        "    # Number of won games\n",
        "    score = 0\n",
        "        \n",
        "    for e in range(epochs):\n",
        "        \n",
        "        # At each epoch, we restart to a fresh game and get the initial state\n",
        "        state = env.reset()\n",
        "        # This assumes that the games will end\n",
        "        game_over = False\n",
        "\n",
        "        win = 0\n",
        "        lose = 0\n",
        "\n",
        "        while not game_over:\n",
        "            # The agent performs an action\n",
        "            action = agent.act(state, train=False)\n",
        "\n",
        "            # Apply an action to the environment, get the next state, the reward\n",
        "            # and if the games end\n",
        "            prev_state = state\n",
        "            state, reward, game_over = env.act(action)\n",
        "\n",
        "            # Update the counters\n",
        "            if reward > 0:\n",
        "                win = win + reward\n",
        "            if reward < 0:\n",
        "                lose = lose -reward\n",
        "                        \n",
        "        # Save as a mp4\n",
        "        env.draw(prefix+str(e))\n",
        "\n",
        "        # Update stats\n",
        "        score = score + win-lose\n",
        "\n",
        "        print(\"Win/lose count {}/{}. Average score ({})\"\n",
        "              .format(win, lose, score/(1+e)))\n",
        "    print('Final score: '+str(score/epochs))"
      ],
      "execution_count": 0,
      "outputs": []
    },
    {
      "cell_type": "code",
      "metadata": {
        "id": "B2ZbKjKwhmTW",
        "colab_type": "code",
        "outputId": "b99b6095-172c-4c5f-cfc2-3b7e9f365b4b",
        "colab": {
          "base_uri": "https://localhost:8080/",
          "height": 497
        }
      },
      "source": [
        "# Initialize the game\n",
        "env = Environment(grid_size=size, max_time=T,temperature=temperature)\n",
        "\n",
        "# Initialize the agent!\n",
        "agent = RandomAgent()\n",
        "\n",
        "test(agent,env,epochs_test,prefix='random')\n",
        "HTML(display_videos('random0.mp4'))"
      ],
      "execution_count": 10,
      "outputs": [
        {
          "output_type": "stream",
          "text": [
            "Win/lose count 10.0/9.0. Average score (1.0)\n",
            "Win/lose count 10.5/19.0. Average score (-3.75)\n",
            "Win/lose count 18.5/9.0. Average score (0.6666666666666666)\n",
            "Win/lose count 10.5/18.0. Average score (-1.375)\n",
            "Win/lose count 7.0/7.0. Average score (-1.1)\n",
            "Win/lose count 11.5/18.0. Average score (-2.0)\n",
            "Win/lose count 17.0/17.0. Average score (-1.7142857142857142)\n",
            "Win/lose count 7.0/12.0. Average score (-2.125)\n",
            "Win/lose count 10.5/10.0. Average score (-1.8333333333333333)\n",
            "Win/lose count 12.0/20.0. Average score (-2.45)\n",
            "Win/lose count 10.5/19.0. Average score (-3.0)\n",
            "Final score: -3.0\n"
          ],
          "name": "stdout"
        },
        {
          "output_type": "execute_result",
          "data": {
            "text/html": [
              "<video alt=\"test\" controls>\n",
              "                <source src=\"data:video/mp4;base64,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\" type=\"video/mp4\" />\n",
              "             </video>"
            ],
            "text/plain": [
              "<IPython.core.display.HTML object>"
            ]
          },
          "metadata": {
            "tags": []
          },
          "execution_count": 10
        }
      ]
    },
    {
      "cell_type": "markdown",
      "metadata": {
        "id": "_ggJRQmmhmTa",
        "colab_type": "text"
      },
      "source": [
        "***\n",
        "## DQN"
      ]
    },
    {
      "cell_type": "markdown",
      "metadata": {
        "id": "T7TuO39NhmTc",
        "colab_type": "text"
      },
      "source": [
        "Let us assume here that $T=\\infty$.\n",
        "\n",
        "***\n",
        "__Question 5__ Let $\\pi$ be a policy, show that:\n",
        "\n",
        "\\begin{equation*}\n",
        "Q^{\\pi}(s,a)=E_{(s',a')\\sim p(.|s,a)}[r(s,a)+\\gamma Q^{\\pi}(s',a')]\n",
        "\\end{equation*}\n",
        "\n",
        "Then, show that for the optimal policy $\\pi^*$ (we assume its existence), the following holds: \n",
        "\n",
        "\\begin{equation*}\n",
        "Q^{*}(s,a)=E_{s'\\sim \\pi^*(.|s,a)}[r(s,a)+\\gamma\\max_{a'}Q^{*}(s',a')].\n",
        "\\end{equation*}\n",
        "Finally, deduce that a plausible objective is:\n",
        "\n",
        "\\begin{equation*}\n",
        "\\mathcal{L}(\\theta)=E_{s' \\sim \\pi^*(.|s,a)}\\Vert r+\\gamma\\max\\max_{a'}Q(s',a',\\theta)-Q(s,a,\\theta)\\Vert^{2}.\n",
        "\\end{equation*}\n",
        "\n",
        "\n"
      ]
    },
    {
      "cell_type": "markdown",
      "metadata": {
        "id": "LucY30ZMhmTd",
        "colab_type": "text"
      },
      "source": [
        "From the Defition of the Q function:\n",
        "\n",
        "\\begin{equation}\n",
        "\\begin{aligned}\n",
        "Q^{\\pi}(s, a) &=E_{p^{\\pi}}\\left[\\sum_{t = 0}^{\\infty} \\gamma^{t} r\\left(s_{t}, a_{t}\\right) | s_{0}=s, a_{0}=a\\right]\\\\\n",
        "&= E_{p^{\\pi}}\\left[r\\left(s, a\\right) + \\sum_{t = 1}^{\\infty} \\gamma^{t} r\\left(s_{t}, a_{t}\\right) | s_{0}=s, a_{0}=a\\right]\\\\\n",
        "&= E_{p^{\\pi}}\\left[r\\left(s, a\\right) + \\gamma \\sum_{t = 0}^{\\infty} \\gamma^{t-1} r\\left(s_{t}, a_{t}\\right) | s_{0}=s, a_{0}=a\\right]\\\\\n",
        "&= E_{p^{\\pi}}\\left[r\\left(s, a\\right) + \\sum_{t = 0}^{\\infty} \\gamma^{t} r\\left(s_{t}, a_{t}\\right) | s_{0}=s, a_{0}=a\\right]\\\\\n",
        "&=\\sum_{s^{\\prime}} \\mathcal{P}_{s s^{\\prime}}^{a}\\left[r\\left(s, a\\right)+\\gamma \\mathbb{E}_{p^{\\pi}}\\left[\\sum_{k=0}^{\\infty} \\gamma^{k} r\\left(s^{\\prime}_{t}\\right) | s_{t+1}=s^{\\prime}\\right]\\right]\\\\\n",
        "&= \\sum_{s^{\\prime}} \\mathcal{P}_{s s^{\\prime}}^{a}\\left[r\\left(s, a\\right)+\\gamma \\sum_{a^{\\prime}} \\pi\\left(s^{\\prime}, a^{\\prime}\\right) Q^{\\pi}\\left(s^{\\prime}, a^{\\prime}\\right)\\right]\\\\\n",
        "&=E_{\\left(s^{\\prime}, a^{\\prime}\\right) \\sim p(. | s, a)}\\left[r(s, a)+\\gamma Q^{\\pi}\\left(s^{\\prime}, a^{\\prime}\\right)\\right]\n",
        "\\end{aligned}\n",
        "\\end{equation}\n",
        "\n",
        "Thus, the optimal Q function is:\n",
        "\\begin{equation}\n",
        "\\begin{aligned}\n",
        "Q^{*}(s, a)&=\\max _{\\pi} Q^{\\pi}(s, a)\\\\\n",
        "&= \\max _{\\pi} E_{p^{\\pi}}\\left[r\\left(s, a\\right) + \\gamma  \\sum_{s^{\\prime}} \\mathcal{P}_{s s^{\\prime}}^{a} Q^{\\pi}\\left(s^{\\prime}, a^{\\prime}\\right)| s_{0}=s, a_{0}=a\\right]\\\\\n",
        "&= E_{p^{\\pi}}\\left[r\\left(s, a\\right) + \\gamma  \\sum_{s^{\\prime}} \\max _{\\pi} \\mathcal{P}_{s s^{\\prime}}^{a} Q^{\\pi}\\left(s^{\\prime}, a^{\\prime}\\right)| s_{0}=s, a_{0}=a\\right]\n",
        "\\end{aligned}\n",
        "\\end{equation}\n",
        "And since :\n",
        "\\begin{equation}\n",
        "\\pi^{*}(s)=\\arg \\max _{a} Q^{*}(s, a) \\quad \\forall s \\in \\mathbb{S}\n",
        "\\end{equation}\n",
        "Thus \n",
        "\\begin{equation}\n",
        "\\begin{aligned}\n",
        "Q^{*}(s, a)&= E_{s^{\\prime} \\sim \\pi^{*}(. | s, a)}\\left[r(s, a)+\\gamma \\max _{a^{\\prime}} Q^{*}\\left(s^{\\prime}, a^{\\prime}\\right)\\right]\n",
        "\\end{aligned}\n",
        "\\end{equation}\n",
        "\n",
        "And since we have $E_{s^{\\prime} \\sim \\pi^{*}(. | s, a)}\\left[r(s, a)+\\gamma \\max _{a^{\\prime}} Q^{*}\\left(s^{\\prime}, a^{\\prime}\\right)\\right]$.\n",
        " which is equivalent to $E_{s^{\\prime} \\sim \\pi^{*}(. | s, a)}\\left[r(s, a)+\\gamma \\max _{a^{\\prime}} Q^{*}\\left(s^{\\prime}, a^{\\prime}\\right)-Q^{*}(s, a) \\right] =0 $. Then a natural objective to minimize is the difference between the two quantities ( or also , the square 'L2-norm').  \n",
        " Thus $\\mathcal{L}(\\theta)=E_{s^{\\prime} \\sim \\pi^{*}(\\cdot | s, a)}\\left\\|r+\\gamma \\max _{a^{\\prime}} Q\\left(s^{\\prime}, a^{\\prime}, \\theta\\right)-Q(s, a, \\theta)\\right\\|^{2}$ is a loss that will ensure the convergence of a certain neural network model predicting the Q-function to verify the previous equality (under some other hypothesis). \n"
      ]
    },
    {
      "cell_type": "markdown",
      "metadata": {
        "id": "jm6tb1rthmTe",
        "colab_type": "text"
      },
      "source": [
        "***\n",
        "The DQN-learning algorithm relies on these derivations to train the parameters $\\theta$ of a Deep Neural Network:\n",
        "\n",
        "1. At the state $s_t$, select the action $a_t$ with best reward using $Q_t$ and store the results;\n",
        "\n",
        "2. Obtain the new state $s_{t+1}$ from the environment $p$;\n",
        "\n",
        "3. Store $(s_t,a_t,s_{t+1})$;\n",
        "\n",
        "4. Obtain $Q_{t+1}$ by minimizing  $\\mathcal{L}$ from a recovered batch from the previously stored results.\n",
        "\n",
        "***\n",
        "__Question 6__ Implement the class ```Memory``` that stores moves (in a replay buffer) via ```remember``` and provides a ```random_access``` to these. Specify a maximum memory size to avoid side effects. You can for example use a ```list()``` and set by default ```max_memory=100```."
      ]
    },
    {
      "cell_type": "code",
      "metadata": {
        "id": "Kv_WRDrChmTf",
        "colab_type": "code",
        "colab": {}
      },
      "source": [
        "class Memory(object):\n",
        "    def __init__(self, max_memory=100):\n",
        "        self.max_memory = max_memory\n",
        "        self.memory = list()\n",
        "\n",
        "    def remember(self, m):\n",
        "      self.memory.append(m)\n",
        "      if len(self.memory) > self.max_memory :\n",
        "        del self.memory[0]\n",
        "        \n",
        "    def random_access(self):\n",
        "        random_m = self.memory[np.random.randint(0, len(self.memory))]\n",
        "        return random_m"
      ],
      "execution_count": 0,
      "outputs": []
    },
    {
      "cell_type": "markdown",
      "metadata": {
        "id": "951oATRvhmTk",
        "colab_type": "text"
      },
      "source": [
        "***\n",
        "The pipeline we will use for training is given below:"
      ]
    },
    {
      "cell_type": "code",
      "metadata": {
        "id": "xrq69Ni9hmTl",
        "colab_type": "code",
        "colab": {}
      },
      "source": [
        "def train(agent,env,epoch, verbose=True, prefix=''):\n",
        "    # Number of won games\n",
        "    score = 0\n",
        "    loss = 0\n",
        "    Final_average_score = np.zeros(epoch)\n",
        "    for e in range(epoch):\n",
        "        # At each epoch, we restart to a fresh game and get the initial state\n",
        "        state = env.reset()\n",
        "        # This assumes that the games will terminate\n",
        "        game_over = False\n",
        "\n",
        "        win = 0\n",
        "        lose = 0\n",
        "\n",
        "        while not game_over:\n",
        "            # The agent performs an action\n",
        "            action = agent.act(state, train=True)\n",
        "\n",
        "            # Apply an action to the environment, get the next state, the reward\n",
        "            # and if the games end\n",
        "            prev_state = state\n",
        "            state, reward, game_over = env.act(action)\n",
        "\n",
        "            # Update the counters\n",
        "            if reward > 0:\n",
        "                win = win + reward\n",
        "            if reward < 0:\n",
        "                lose = lose -reward\n",
        "\n",
        "            # Apply the reinforcement strategy\n",
        "            loss = agent.reinforce(prev_state, state,  action, reward, game_over)\n",
        "\n",
        "        # Save as a mp4\n",
        "        if e % 10 == 0:\n",
        "            env.draw(prefix+str(e))\n",
        "            print('Experience of epoch {} saved as : {}'.format(e, prefix+str(e)))\n",
        "\n",
        "        # Update stats\n",
        "        score += win-lose\n",
        "        Final_average_score[e] = win-lose\n",
        "        if verbose :\n",
        "          print(\"Epoch {:03d}/{:03d} | Loss {:.4f} | Win/lose count {}/{} ({})\"\n",
        "                .format(e, epoch, loss, win, lose, win-lose))\n",
        "        else :\n",
        "          if e % 10 == 0:\n",
        "            print(\"Epoch {:03d}/{:03d} | Loss {:.4f} | Win/lose count {}/{} ({})\"\n",
        "                .format(e, epoch, loss, win, lose, win-lose))\n",
        "        agent.save(name_weights=prefix+'model.h5',name_model=prefix+'model.json')\n",
        "    \n",
        "    return np.mean(Final_average_score)"
      ],
      "execution_count": 0,
      "outputs": []
    },
    {
      "cell_type": "markdown",
      "metadata": {
        "id": "qiEJIxHPhmTo",
        "colab_type": "text"
      },
      "source": [
        "__Question 7__ Implement the DQN training algorithm using a cascade of fully connected layers. You can use different learning rate, batch size or memory size parameters. In particular, the loss might oscillate while the player will start to win the games. You have to find a good criterium.\n"
      ]
    },
    {
      "cell_type": "code",
      "metadata": {
        "id": "kphRVPYthmTp",
        "colab_type": "code",
        "colab": {}
      },
      "source": [
        "class DQN(Agent):\n",
        "    def __init__(self, grid_size,  epsilon = 0.1, memory_size=100, batch_size = 16,n_state=2):\n",
        "        super(DQN, self).__init__(epsilon = epsilon)\n",
        "\n",
        "        # Discount for Q learning\n",
        "        self.discount = 0.99\n",
        "        \n",
        "        self.grid_size = grid_size\n",
        "        \n",
        "        # number of state\n",
        "        self.n_state = n_state\n",
        "\n",
        "        # Memory\n",
        "        self.memory = Memory(memory_size)\n",
        "        \n",
        "        # Batch size when learning\n",
        "        self.batch_size = batch_size\n",
        "\n",
        "    def learned_act(self, s):\n",
        "        \n",
        "        return np.argmax(self.model.predict(np.expand_dims(s, axis=0)))\n",
        "\n",
        "    def reinforce(self, s_, n_s_, a_, r_, game_over_):\n",
        "        # Two steps: first memorize the states, second learn from the pool\n",
        "\n",
        "        self.memory.remember([s_, n_s_, a_, r_, game_over_])\n",
        "        input_states = np.zeros((self.batch_size, 5,5,self.n_state))\n",
        "        target_q = np.zeros((self.batch_size, 4))\n",
        "        \n",
        "        for i in range(self.batch_size):\n",
        "            s_, n_s_, a_, r_, game_over_ = self.memory.random_access()\n",
        "\n",
        "            input_states[i] = s_            \n",
        "            if game_over_:\n",
        "                # If we reach the terminal state (Game is over) target_Q(state,action) is just  the reward associated to the one observed\n",
        "                target_q[i, a_] = r_\n",
        "            else:\n",
        "                # If we didn't reach the terminal state, target_Q(state,action) is the reward associated to the action performed + max target_Q(n_state,action')\n",
        "                max_predicted_value = np.max(self.model.predict(np.expand_dims(n_s_, axis=0)))\n",
        "                target_q[i, a_] = r_ + self.discount * max_predicted_value\n",
        "\n",
        "        ######## FILL IN\n",
        "        # HINT: Clip the target to avoid exploiding gradients.. -- clipping is a bit tighter\n",
        "        target_q = np.clip(target_q, -3, 3)\n",
        "        \n",
        "        l = self.model.train_on_batch(input_states, target_q)\n",
        "\n",
        "        return l\n",
        "\n",
        "    def save(self,name_weights='model.h5',name_model='model.json'):\n",
        "        self.model.save_weights(name_weights, overwrite=True)\n",
        "        with open(name_model, \"w\") as outfile:\n",
        "            json.dump(self.model.to_json(), outfile)\n",
        "            \n",
        "    def load(self,name_weights='model.h5',name_model='model.json'):\n",
        "        with open(name_model, \"r\") as jfile:\n",
        "            model = model_from_json(json.load(jfile))\n",
        "        model.load_weights(name_weights)\n",
        "        model.compile(\"sgd\", \"mse\")\n",
        "        self.model = model\n",
        "\n",
        "            \n",
        "class DQN_FC(DQN):\n",
        "    def __init__(self, *args, lr=0.1,**kwargs):\n",
        "        super(DQN_FC, self).__init__( *args,**kwargs)\n",
        "        \n",
        "        # NN Model\n",
        "\n",
        "        model = Sequential(layers = [Flatten(input_shape=(5, 5, self.n_state)),\n",
        "                                    Dense(100, activation=\"relu\"), \n",
        "                                    Dropout(0.2), \n",
        "                                    Dense(100, activation=\"relu\"), \n",
        "                                    Dropout(0.2),\n",
        "                                    Dense(40, activation=\"relu\"),\n",
        "                                    Dropout(0.2),\n",
        "                                    Dense(4)])\n",
        "        model.compile(sgd(lr=lr, decay=1e-4, momentum=0.0), \"mse\")\n",
        "        self.model = model"
      ],
      "execution_count": 0,
      "outputs": []
    },
    {
      "cell_type": "code",
      "metadata": {
        "id": "Yb8me_R9ljrm",
        "colab_type": "code",
        "outputId": "8a774378-0b78-4fe2-b9a2-da59fced7cc6",
        "colab": {
          "base_uri": "https://localhost:8080/",
          "height": 476
        }
      },
      "source": [
        "for batch_size in [32, 64, 128]:\n",
        "  print('batch_size = ', batch_size)\n",
        "  env = Environment(grid_size=size, max_time=T, temperature=0.3)\n",
        "  agent = DQN_FC(size, lr=.1, epsilon = 0.1, memory_size=1000, batch_size = batch_size)\n",
        "  avg_score = train(agent, env, epochs_train, verbose=False, prefix='fc_train_bs'+str(batch_size)+'_')\n",
        "  print('Average Score is : {:.3f}'.format(avg_score))\n",
        "  print('*'*10)\n",
        "# HTML(display_videos('fc_train20.mp4'))"
      ],
      "execution_count": 0,
      "outputs": [
        {
          "output_type": "stream",
          "text": [
            "batch_size =  32\n",
            "Experience of epoch 0 saved as : fc_train_bs32_0\n",
            "Epoch 000/021 | Loss 0.0024 | Win/lose count 0.5/1.0 (-0.5)\n",
            "Experience of epoch 10 saved as : fc_train_bs32_10\n",
            "Epoch 010/021 | Loss 0.0177 | Win/lose count 3.0/10.0 (-7.0)\n",
            "Experience of epoch 20 saved as : fc_train_bs32_20\n",
            "Epoch 020/021 | Loss 0.0042 | Win/lose count 7.0/10.0 (-3.0)\n",
            "Average Score is : -5.571\n",
            "**********\n",
            "batch_size =  64\n",
            "Experience of epoch 0 saved as : fc_train_bs64_0\n",
            "Epoch 000/021 | Loss 0.0077 | Win/lose count 4.5/9.0 (-4.5)\n",
            "Experience of epoch 10 saved as : fc_train_bs64_10\n",
            "Epoch 010/021 | Loss 0.0156 | Win/lose count 5.0/8.0 (-3.0)\n",
            "Experience of epoch 20 saved as : fc_train_bs64_20\n",
            "Epoch 020/021 | Loss 0.0089 | Win/lose count 2.0/6.0 (-4.0)\n",
            "Average Score is : -14.048\n",
            "**********\n",
            "batch_size =  128\n",
            "Experience of epoch 0 saved as : fc_train_bs128_0\n",
            "Epoch 000/021 | Loss 0.0119 | Win/lose count 6.5/7.0 (-0.5)\n",
            "Experience of epoch 10 saved as : fc_train_bs128_10\n",
            "Epoch 010/021 | Loss 0.0091 | Win/lose count 3.0/3.0 (0.0)\n",
            "Experience of epoch 20 saved as : fc_train_bs128_20\n",
            "Epoch 020/021 | Loss 0.0160 | Win/lose count 4.5/4.0 (0.5)\n",
            "Average Score is : -15.667\n",
            "**********\n"
          ],
          "name": "stdout"
        }
      ]
    },
    {
      "cell_type": "code",
      "metadata": {
        "id": "kGYUGaWshmTv",
        "colab_type": "code",
        "outputId": "934080fa-1481-4cc6-f487-921383637780",
        "colab": {
          "base_uri": "https://localhost:8080/",
          "height": 476
        }
      },
      "source": [
        "for m_size in [100, 1000, 2000]:\n",
        "  print('Memory size = ', m_size)\n",
        "  env = Environment(grid_size=size, max_time=T, temperature=0.3)\n",
        "  agent = DQN_FC(size, lr=.1, epsilon = 0.1, memory_size=m_size, batch_size = 32)\n",
        "  avg_score = train(agent, env, epochs_train, verbose=False, prefix='fc_train_'+str(m_size)+'_')\n",
        "  print('Average Score is : {:.3f}'.format(avg_score))\n",
        "  print('*'*10)\n",
        "# HTML(display_videos('fc_train20.mp4'))"
      ],
      "execution_count": 0,
      "outputs": [
        {
          "output_type": "stream",
          "text": [
            "Memory size =  100\n",
            "Experience of epoch 0 saved as : fc_train_100_0\n",
            "Epoch 000/021 | Loss 0.0042 | Win/lose count 4.0/4.0 (0.0)\n",
            "Experience of epoch 10 saved as : fc_train_100_10\n",
            "Epoch 010/021 | Loss 0.0113 | Win/lose count 8.0/12.0 (-4.0)\n",
            "Experience of epoch 20 saved as : fc_train_100_20\n",
            "Epoch 020/021 | Loss 0.0002 | Win/lose count 3.5/4.0 (-0.5)\n",
            "Average Score is : -9.619\n",
            "**********\n",
            "Memory size =  1000\n",
            "Experience of epoch 0 saved as : fc_train_1000_0\n",
            "Epoch 000/021 | Loss 0.0192 | Win/lose count 5.0/5.0 (0.0)\n",
            "Experience of epoch 10 saved as : fc_train_1000_10\n",
            "Epoch 010/021 | Loss 0.0094 | Win/lose count 3.5/2.0 (1.5)\n",
            "Experience of epoch 20 saved as : fc_train_1000_20\n",
            "Epoch 020/021 | Loss 0.0222 | Win/lose count 9.5/15.0 (-5.5)\n",
            "Average Score is : -4.310\n",
            "**********\n",
            "Memory size =  2000\n",
            "Experience of epoch 0 saved as : fc_train_2000_0\n",
            "Epoch 000/021 | Loss 0.0037 | Win/lose count 4.0/9.0 (-5.0)\n",
            "Experience of epoch 10 saved as : fc_train_2000_10\n",
            "Epoch 010/021 | Loss 0.0120 | Win/lose count 6.5/10.0 (-3.5)\n",
            "Experience of epoch 20 saved as : fc_train_2000_20\n",
            "Epoch 020/021 | Loss 0.0083 | Win/lose count 1.0/3.0 (-2.0)\n",
            "Average Score is : -42.357\n",
            "**********\n"
          ],
          "name": "stdout"
        }
      ]
    },
    {
      "cell_type": "code",
      "metadata": {
        "id": "EeR_HXctkA7Z",
        "colab_type": "code",
        "outputId": "6d2fb8f4-c78c-4f60-b09e-769ec0342283",
        "colab": {
          "base_uri": "https://localhost:8080/",
          "height": 293
        }
      },
      "source": [
        "HTML(display_videos('fc_train_1000_20.mp4'))"
      ],
      "execution_count": 0,
      "outputs": [
        {
          "output_type": "execute_result",
          "data": {
            "text/html": [
              "<video alt=\"test\" controls>\n",
              "                <source src=\"data:video/mp4;base64,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\" type=\"video/mp4\" />\n",
              "             </video>"
            ],
            "text/plain": [
              "<IPython.core.display.HTML object>"
            ]
          },
          "metadata": {
            "tags": []
          },
          "execution_count": 24
        }
      ]
    },
    {
      "cell_type": "code",
      "metadata": {
        "id": "XGKN-R1kJ2TH",
        "colab_type": "code",
        "colab": {
          "base_uri": "https://localhost:8080/",
          "height": 701
        },
        "outputId": "acb92b47-dca7-4138-b4a2-139c17ffd332"
      },
      "source": [
        "env = Environment(grid_size=size, max_time=T, temperature=0.3)\n",
        "agent = DQN_FC(size, lr=.1, epsilon = 0.1, memory_size=2000, batch_size = 32)\n",
        "avg_score = train(agent, env, epochs_train, prefix='fc_train')\n",
        "HTML(display_videos('fc_train20.mp4'))"
      ],
      "execution_count": 17,
      "outputs": [
        {
          "output_type": "stream",
          "text": [
            "Experience of epoch 0 saved as : fc_train0\n",
            "Epoch 000/021 | Loss 0.0117 | Win/lose count 6.5/7.0 (-0.5)\n",
            "Epoch 001/021 | Loss 0.0094 | Win/lose count 6.0/7.0 (-1.0)\n",
            "Epoch 002/021 | Loss 0.0060 | Win/lose count 5.5/4.0 (1.5)\n",
            "Epoch 003/021 | Loss 0.0020 | Win/lose count 8.0/2.0 (6.0)\n",
            "Epoch 004/021 | Loss 0.0107 | Win/lose count 4.0/4.0 (0.0)\n",
            "Epoch 005/021 | Loss 0.0105 | Win/lose count 0.5/4.0 (-3.5)\n",
            "Epoch 006/021 | Loss 0.0122 | Win/lose count 5.0/5.0 (0.0)\n",
            "Epoch 007/021 | Loss 0.0285 | Win/lose count 4.0/4.0 (0.0)\n",
            "Epoch 008/021 | Loss 0.0080 | Win/lose count 7.5/4.0 (3.5)\n",
            "Epoch 009/021 | Loss 0.0061 | Win/lose count 5.5/3.0 (2.5)\n",
            "Experience of epoch 10 saved as : fc_train10\n",
            "Epoch 010/021 | Loss 0.0042 | Win/lose count 2.5/3.0 (-0.5)\n",
            "Epoch 011/021 | Loss 0.0139 | Win/lose count 5.0/5.0 (0.0)\n",
            "Epoch 012/021 | Loss 0.0045 | Win/lose count 1.5/1.0 (0.5)\n",
            "Epoch 013/021 | Loss 0.0019 | Win/lose count 6.0/4.0 (2.0)\n",
            "Epoch 014/021 | Loss 0.0214 | Win/lose count 3.0/2.0 (1.0)\n",
            "Epoch 015/021 | Loss 0.0022 | Win/lose count 3.0/2.0 (1.0)\n",
            "Epoch 016/021 | Loss 0.0119 | Win/lose count 2.5/5.0 (-2.5)\n",
            "Epoch 017/021 | Loss 0.0119 | Win/lose count 4.5/4.0 (0.5)\n",
            "Epoch 018/021 | Loss 0.0155 | Win/lose count 6.0/8.0 (-2.0)\n",
            "Epoch 019/021 | Loss 0.0180 | Win/lose count 6.5/10.0 (-3.5)\n",
            "Experience of epoch 20 saved as : fc_train20\n",
            "Epoch 020/021 | Loss 0.0080 | Win/lose count 5.5/8.0 (-2.5)\n"
          ],
          "name": "stdout"
        },
        {
          "output_type": "execute_result",
          "data": {
            "text/html": [
              "<video alt=\"test\" controls>\n",
              "                <source src=\"data:video/mp4;base64,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\" type=\"video/mp4\" />\n",
              "             </video>"
            ],
            "text/plain": [
              "<IPython.core.display.HTML object>"
            ]
          },
          "metadata": {
            "tags": []
          },
          "execution_count": 17
        }
      ]
    },
    {
      "cell_type": "markdown",
      "metadata": {
        "id": "YAQ9nE7pg3a0",
        "colab_type": "text"
      },
      "source": [
        "After running multiple experiments with different parameters and architectures, we noticed that : \n",
        "\n",
        "*   The choice of $\\epsilon$ is very crucial for a good performance. Indeed, with a greedy policy (very low value of $\\epsilon$, the agent exploits too much and thus ignore other options that could be better which leads to poor performance, the same for a large value of $\\epsilon$ that leads to random actions and therefore too much exploration that causes increasing total loss and neglecting optimal actions. Values between 0.1 and 0.4 seems to give better results. (Another efficient method is to use a decaying epsilon).\n",
        "*   For the learning rate, values in the range of 0.1 are more suitable for training since they are not too low ( which causes a slow convergence) and not too high ( undesirable divergent behavior).\n",
        "*   Also, the training phase has a different behavior when using different values of the memory size. The default value 2000 is enabling to have great average score.\n",
        "*   When increasing the batch size, the training gets slower but the performance of training do not increase as well.\n",
        "\n",
        "\n",
        "Perhaps, One can run multiple experiences to confirm those results and to build a confidence interval on the impact of each parameter. Also, the different parameters are interacting , so we need to try different combinaisons to retrieve good parameters.\n",
        "\n"
      ]
    },
    {
      "cell_type": "markdown",
      "metadata": {
        "id": "ZpNyiMThhmTz",
        "colab_type": "text"
      },
      "source": [
        "***\n",
        "***\n",
        "__Question 8__ Implement the DQN training algorithm using a CNN (for example, 2 convolutional layers and one final fully connected layer)."
      ]
    },
    {
      "cell_type": "code",
      "metadata": {
        "id": "BCDzBgcGhmT0",
        "colab_type": "code",
        "colab": {}
      },
      "source": [
        "class DQN_CNN(DQN):\n",
        "    def __init__(self, *args,lr=0.1,**kwargs):\n",
        "        super(DQN_CNN, self).__init__(*args,**kwargs)\n",
        "        \n",
        "        ###### FILL IN\n",
        "\n",
        "        model = Sequential(layers = [Conv2D(50, (2,2), input_shape=(5,5,self.n_state), activation='relu'),\n",
        "                                    Conv2D(100, (2,2), activation='relu'), \n",
        "                                    Dropout(0.2), \n",
        "                                    Flatten(),\n",
        "                                    Dense(4)])\n",
        "        \n",
        "        model.compile(sgd(lr=lr, decay=1e-4, momentum=0.0), \"mse\")\n",
        "        self.model = model"
      ],
      "execution_count": 0,
      "outputs": []
    },
    {
      "cell_type": "code",
      "metadata": {
        "id": "KhvOtBgohmT3",
        "colab_type": "code",
        "outputId": "461e3300-0b5e-487e-cbf1-fd21eea97f1e",
        "colab": {
          "base_uri": "https://localhost:8080/",
          "height": 701
        }
      },
      "source": [
        "env = Environment(grid_size=size, max_time=T, temperature=0.3)\n",
        "agent = DQN_CNN(size, lr=.1, epsilon = 0.1, memory_size=2000, batch_size = 32)\n",
        "train(agent,env,epochs_train,prefix='cnn_train')\n",
        "HTML(display_videos('cnn_train20.mp4'))"
      ],
      "execution_count": 19,
      "outputs": [
        {
          "output_type": "stream",
          "text": [
            "Experience of epoch 0 saved as : cnn_train0\n",
            "Epoch 000/021 | Loss 0.0110 | Win/lose count 4.5/5.0 (-0.5)\n",
            "Epoch 001/021 | Loss 0.0188 | Win/lose count 3.5/10.0 (-6.5)\n",
            "Epoch 002/021 | Loss 0.0198 | Win/lose count 4.0/5.0 (-1.0)\n",
            "Epoch 003/021 | Loss 0.0094 | Win/lose count 4.5/8.0 (-3.5)\n",
            "Epoch 004/021 | Loss 0.0102 | Win/lose count 9.0/4.0 (5.0)\n",
            "Epoch 005/021 | Loss 0.0065 | Win/lose count 3.5/1.0 (2.5)\n",
            "Epoch 006/021 | Loss 0.0043 | Win/lose count 3.5/2.0 (1.5)\n",
            "Epoch 007/021 | Loss 0.0105 | Win/lose count 4.0/5.0 (-1.0)\n",
            "Epoch 008/021 | Loss 0.0080 | Win/lose count 8.0/1.0 (7.0)\n",
            "Epoch 009/021 | Loss 0.0116 | Win/lose count 4.0/0 (4.0)\n",
            "Experience of epoch 10 saved as : cnn_train10\n",
            "Epoch 010/021 | Loss 0.0048 | Win/lose count 4.0/1.0 (3.0)\n",
            "Epoch 011/021 | Loss 0.0023 | Win/lose count 2.0/8.0 (-6.0)\n",
            "Epoch 012/021 | Loss 0.0086 | Win/lose count 5.0/2.0 (3.0)\n",
            "Epoch 013/021 | Loss 0.0011 | Win/lose count 4.0/2.0 (2.0)\n",
            "Epoch 014/021 | Loss 0.0024 | Win/lose count 6.0/2.0 (4.0)\n",
            "Epoch 015/021 | Loss 0.0084 | Win/lose count 6.0/4.0 (2.0)\n",
            "Epoch 016/021 | Loss 0.0033 | Win/lose count 2.5/1.0 (1.5)\n",
            "Epoch 017/021 | Loss 0.0184 | Win/lose count 4.5/0 (4.5)\n",
            "Epoch 018/021 | Loss 0.0047 | Win/lose count 8.0/4.0 (4.0)\n",
            "Epoch 019/021 | Loss 0.0026 | Win/lose count 6.5/1.0 (5.5)\n",
            "Experience of epoch 20 saved as : cnn_train20\n",
            "Epoch 020/021 | Loss 0.0210 | Win/lose count 4.5/2.0 (2.5)\n"
          ],
          "name": "stdout"
        },
        {
          "output_type": "execute_result",
          "data": {
            "text/html": [
              "<video alt=\"test\" controls>\n",
              "                <source src=\"data:video/mp4;base64,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\" type=\"video/mp4\" />\n",
              "             </video>"
            ],
            "text/plain": [
              "<IPython.core.display.HTML object>"
            ]
          },
          "metadata": {
            "tags": []
          },
          "execution_count": 19
        }
      ]
    },
    {
      "cell_type": "markdown",
      "metadata": {
        "id": "sueJfGQshmT7",
        "colab_type": "text"
      },
      "source": [
        "***\n",
        "***\n",
        "__Question 9__ Test both algorithms and compare their performances. Which issue(s) do you observe? Observe also different behaviors by changing the temperature."
      ]
    },
    {
      "cell_type": "code",
      "metadata": {
        "id": "ijCl6mb1hmT8",
        "colab_type": "code",
        "outputId": "9db46d8e-7960-422a-8956-8bb5c67bc80d",
        "colab": {
          "base_uri": "https://localhost:8080/",
          "height": 459
        }
      },
      "source": [
        "env = Environment(grid_size=size, max_time=T,temperature=0.3)\n",
        "agent_cnn = DQN_CNN(size, lr=.1, epsilon = 0.1, memory_size=2000, batch_size = 32)\n",
        "agent_cnn.load(name_weights='cnn_trainmodel.h5',name_model='cnn_trainmodel.json')\n",
        "\n",
        "agent_fc = DQN_FC(size, lr=.1, epsilon = 0.1, memory_size=2000, batch_size = 32)\n",
        "agent_cnn.load(name_weights='fc_trainmodel.h5',name_model='fc_trainmodel.json')\n",
        "print('Test of the CNN')\n",
        "test(agent_cnn,env,epochs_test,prefix='cnn_test')\n",
        "print('Test of the FC')\n",
        "test(agent_fc,env,epochs_test,prefix='fc_test')"
      ],
      "execution_count": 0,
      "outputs": [
        {
          "output_type": "stream",
          "text": [
            "Test of the CNN\n",
            "Win/lose count 0/0. Average score (0.0)\n",
            "Win/lose count 1.5/0. Average score (0.75)\n",
            "Win/lose count 1.0/0. Average score (0.8333333333333334)\n",
            "Win/lose count 2.0/0. Average score (1.125)\n",
            "Win/lose count 0.5/1.0. Average score (0.8)\n",
            "Win/lose count 0/0. Average score (0.6666666666666666)\n",
            "Win/lose count 0.5/2.0. Average score (0.35714285714285715)\n",
            "Win/lose count 0/1.0. Average score (0.1875)\n",
            "Win/lose count 1.0/2.0. Average score (0.05555555555555555)\n",
            "Win/lose count 2.0/1.0. Average score (0.15)\n",
            "Win/lose count 1.0/1.0. Average score (0.13636363636363635)\n",
            "Final score: 0.13636363636363635\n",
            "Test of the FC\n",
            "Win/lose count 0.5/2.0. Average score (-1.5)\n",
            "Win/lose count 1.5/7.0. Average score (-3.5)\n",
            "Win/lose count 0.5/4.0. Average score (-3.5)\n",
            "Win/lose count 3.5/5.0. Average score (-3.0)\n",
            "Win/lose count 2.5/2.0. Average score (-2.3)\n",
            "Win/lose count 2.0/1.0. Average score (-1.75)\n",
            "Win/lose count 0/3.0. Average score (-1.9285714285714286)\n",
            "Win/lose count 2.0/4.0. Average score (-1.9375)\n",
            "Win/lose count 3.0/2.0. Average score (-1.6111111111111112)\n",
            "Win/lose count 3.0/4.0. Average score (-1.55)\n",
            "Win/lose count 2.0/0. Average score (-1.2272727272727273)\n",
            "Final score: -1.2272727272727273\n"
          ],
          "name": "stdout"
        }
      ]
    },
    {
      "cell_type": "code",
      "metadata": {
        "id": "yY7MXNNihmUA",
        "colab_type": "code",
        "outputId": "356adb24-4858-4b47-85e5-ab41a9011e06",
        "colab": {
          "base_uri": "https://localhost:8080/",
          "height": 293
        }
      },
      "source": [
        "HTML(display_videos('cnn_test10.mp4'))"
      ],
      "execution_count": 0,
      "outputs": [
        {
          "output_type": "execute_result",
          "data": {
            "text/html": [
              "<video alt=\"test\" controls>\n",
              "                <source src=\"data:video/mp4;base64,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\" type=\"video/mp4\" />\n",
              "             </video>"
            ],
            "text/plain": [
              "<IPython.core.display.HTML object>"
            ]
          },
          "metadata": {
            "tags": []
          },
          "execution_count": 49
        }
      ]
    },
    {
      "cell_type": "code",
      "metadata": {
        "id": "prImkkBYhmUE",
        "colab_type": "code",
        "outputId": "405dacbb-362f-461b-e31b-2b16ef81c9a0",
        "colab": {
          "base_uri": "https://localhost:8080/",
          "height": 293
        }
      },
      "source": [
        "HTML(display_videos('fc_test10.mp4'))"
      ],
      "execution_count": 0,
      "outputs": [
        {
          "output_type": "execute_result",
          "data": {
            "text/html": [
              "<video alt=\"test\" controls>\n",
              "                <source src=\"data:video/mp4;base64,AAAAIGZ0eXBpc29tAAACAGlzb21pc28yYXZjMW1wNDEAAAAIZnJlZQAAFedtZGF0AAACrQYF//+p3EXpvebZSLeWLNgg2SPu73gyNjQgLSBjb3JlIDE1MiByMjg1NCBlOWE1OTAzIC0gSC4yNjQvTVBFRy00IEFWQyBjb2RlYyAtIENvcHlsZWZ0IDIwMDMtMjAxNyAtIGh0dHA6Ly93d3cudmlkZW9sYW4ub3JnL3gyNjQuaHRtbCAtIG9wdGlvbnM6IGNhYmFjPTEgcmVmPTMgZGVibG9jaz0xOjA6MCBhbmFseXNlPTB4MToweDExMSBtZT1oZXggc3VibWU9NyBwc3k9MSBwc3lfcmQ9MS4wMDowLjAwIG1peGVkX3JlZj0xIG1lX3JhbmdlPTE2IGNocm9tYV9tZT0xIHRyZWxsaXM9MSA4eDhkY3Q9MCBjcW09MCBkZWFkem9uZT0yMSwxMSBmYXN0X3Bza2lwPTEgY2hyb21hX3FwX29mZnNldD00IHRocmVhZHM9MyBsb29rYWhlYWRfdGhyZWFkcz0xIHNsaWNlZF90aHJlYWRzPTAgbnI9MCBkZWNpbWF0ZT0xIGludGVybGFjZWQ9MCBibHVyYXlfY29tcGF0PTAgY29uc3RyYWluZWRfaW50cmE9MCBiZnJhbWVzPTMgYl9weXJhbWlkPTIgYl9hZGFwdD0xIGJfYmlhcz0wIGRpcmVjdD0xIHdlaWdodGI9MSBvcGVuX2dvcD0wIHdlaWdodHA9MiBrZXlpbnQ9MjUwIGtleWludF9taW49MjUgc2NlbmVjdXQ9NDAgaW50cmFfcmVmcmVzaD0wIHJjX2xvb2thaGVhZD00MCByYz1jcmYgbWJ0cmVlPTEgY3JmPTIzLjAgcWNvbXA9MC42MCBxcG1pbj0wIHFwbWF4PTY5IHFwc3RlcD00IGlwX3JhdGlvPTEuNDAgYXE9MToxLjAwAIAAAAN1ZYiEADf//vaH+BTZWBP+Wb/9DX/cj9uPrP1xYyEE31qvIejAGS+1H+b/rFFs6Z6UB/fgCJQAc24ZwpJw4v/ApLdW+BTLYTnE+Uwo5XT/KBbJHQMxCOwrolp7PhMVNU3IT9F6Ob3t3R2rvhIk1DhDeQz32EAceDnnSXpSxL2zrTOJTE+us70mglvMOtmZphn5qWhQKvgp4maGRKYqsF7qjKzJEbJVhEaox8OhqY61llpmZcywRC7exgCju3oo07narUnNCHZT2t7TH8pJ6NsYzvDXG2Rg2CUf14fXm/3G3SV7Betv5RGRf7hm94VKD1pUnMawC1ffSGTDP/ObjzrjUPpUqadzFRzsSLxTGbNtylQPgRlgntBx65hAYhcgPDKMyy+hmFDfmZzxOXNW/twwOfmWInB+fVxIAcPcjhds7mnY2FAeiZUPYVNLZDH2voR7TFuwDE/v34+szkIFRNslQvoyTh5IoAC7GQjEDiWqLE5Fadsw1NuKuk8lS+Q85SCierU7MDqGwxRke/o8ocxMqR+uyvQaoyJ0LgAFomq7FWZPSoq8sT3p5Lzu+IrhNBXiRSRDsIR4e2/IGPHBNnpEveQ6smwBG7T23z4aijvM0gu4ojO6YZUBKLAeK32DGP9p2NbGLrwwZ1SRmDkpTXMXsrQyClwO15BPuB7uHSBzeRvcU0opz36yywfDVdIDr3f05zTCKUFfbGmD9wqwg2bp7Kd95nnUYzS8lZuURJyqX1kwDmfZbjtjOIKwekXJcOLJxKBKJytTbGkyJ6KnKKClIBFIqJ+BRBJN5LA99FwW5mN8JnGkGhKnK6gPYqR/EXXMjqx8UBEBC7bXVCDhsDD+7HnJTsGR0w3bNbqX2UlvfocNBWSzyhdxRgnJLXhDA+YGedSmys7McQU3x3/BYllRlWlPaCgJfSI8lD5rgLAbzWh4tJUCgLxnuH8PcJYL3lgAGCyJIxqkS/YwiGfYxANwT5UwyMLfayCSLZ38zU6D8ZPTIpVKvxaU+Du4nWEjMX0D9Gd+5AHBmYoV/Goo+k48W72iqIQ1wT/WrkTE6JYbOXnNLJKk0JNJH0ggtQhoS3hvTf6UTnuhXCXLg8cbKDyChIm0a5ciUvanBp4K9JMq/at//5boTPa1YTPQIiXBUa1V8tAG1PGSaf8BOhpTcgJq8GlgAAdlAAAAFEGaIWxDv/6plgARB3DdFQWoHDfAAAAAEUGaRTwhkymEO//+qZYAAJWBAAAAC0GeY2pTwv8AALKAAAAAEAGegnRCvwArPQDoWMSZJ/EAAAAQAZ6EakK/ACsxtd3kk+zP4QAAABNBmolJqEFomUwId//+qZYAAJWBAAAADEGep0URLC//AACygQAAABABnsZ0Qr8AKz0A6FjEmSfwAAAAEAGeyGpCvwArMbXd5JPsz+AAAAATQZrNSahBbJlMCHf//qmWAACVgQAAAAxBnutFFSwv/wAAsoAAAAAQAZ8KdEK/ACs9AOhYxJkn8AAAABABnwxqQr8AKzG13eST7M/hAAAAE0GbEUmoQWyZTAh3//6plgAAlYEAAAAMQZ8vRRUsL/8AALKBAAAAEAGfTnRCvwArPQDoWMSZJ/AAAAAQAZ9QakK/ACsxtd3kk+zP4AAAABNBm1VJqEFsmUwId//+qZYAAJWBAAAADEGfc0UVLC//AACygAAAABABn5J0Qr8AKz0A6FjEmSfwAAAAEAGflGpCvwArMbXd5JPsz+EAAAATQZuZSahBbJlMCHf//qmWAACVgAAAAAxBn7dFFSwv/wAAsoEAAAAQAZ/WdEK/ACs9AOhYxJkn8QAAABABn9hqQr8AKzG13eST7M/gAAAAE0Gb3UmoQWyZTAh3//6plgAAlYEAAAAMQZ/7RRUsL/8AALKAAAAAEAGeGnRCvwArPQDoWMSZJ/EAAAAQAZ4cakK/ACsxtd3kk+zP4QAAABNBmgFJqEFsmUwId//+qZYAAJWAAAAADEGeP0UVLC//AACygAAAABABnl50Qr8AKz0A6FjEmSfxAAAAEAGeQGpCvwArMbXd5JPsz+AAAAATQZpFSahBbJlMCHf//qmWAACVgQAAAAxBnmNFFSwv/wAAsoAAAAAQAZ6CdEK/ACs9AOhYxJkn8QAAABABnoRqQr8AKzG13eST7M/hAAAAE0GaiUmoQWyZTAh3//6plgAAlYEAAAAMQZ6nRRUsL/8AALKBAAAAEAGexnRCvwArPQDoWMSZJ/AAAAAQAZ7IakK/ACsxtd3kk+zP4AAAABNBms1JqEFsmUwId//+qZYAAJWBAAAADEGe60UVLC//AACygAAAABABnwp0Qr8AKz0A6FjEmSfwAAAAEAGfDGpCvwArMbXd5JPsz+EAAAATQZsRSahBbJlMCHf//qmWAACVgQAAAAxBny9FFSwv/wAAsoEAAAAQAZ9OdEK/ACs9AOhYxJkn8AAAABABn1BqQr8AKzG13eST7M/gAAAAE0GbVUmoQWyZTAh3//6plgAAlYEAAAAMQZ9zRRUsL/8AALKAAAAAEAGfknRCvwArPQDoWMSZJ/AAAAAQAZ+UakK/ACsxtd3kk+zP4QAAABNBm5lJqEFsmUwId//+qZYAAJWAAAAADEGft0UVLC//AACygQAAABABn9Z0Qr8AKz0A6FjEmSfxAAAAEAGf2GpCvwArMbXd5JPsz+AAAAATQZvdSahBbJlMCHf//qmWAACVgQAAAAxBn/tFFSwv/wAAsoAAAAAQAZ4adEK/ACs9AOhYxJkn8QAAABABnhxqQr8AKzG13eST7M/hAAAAE0GaAUmoQWyZTAh3//6plgAAlYAAAAAMQZ4/RRUsL/8AALKAAAAAEAGeXnRCvwArPQDoWMSZJ/EAAAAQAZ5AakK/ACsxtd3kk+zP4AAAABNBmkVJqEFsmUwId//+qZYAAJWBAAAADEGeY0UVLC//AACygAAAABABnoJ0Qr8AKz0A6FjEmSfxAAAAEAGehGpCvwArMbXd5JPsz+EAAAATQZqJSahBbJlMCHf//qmWAACVgQAAAAxBnqdFFSwv/wAAsoEAAAAQAZ7GdEK/ACs9AOhYxJkn8AAAABABnshqQr8AKzG13eST7M/gAAAAE0GazUmoQWyZTAh3//6plgAAlYEAAAAMQZ7rRRUsL/8AALKAAAAAEAGfCnRCvwArPQDoWMSZJ/AAAAAQAZ8MakK/ACsxtd3kk+zP4QAAABNBmxFJqEFsmUwId//+qZYAAJWBAAAADEGfL0UVLC//AACygQAAABABn050Qr8AKz0A6FjEmSfwAAAAEAGfUGpCvwArMbXd5JPsz+AAAAATQZtVSahBbJlMCHf//qmWAACVgQAAAAxBn3NFFSwv/wAAsoAAAAAQAZ+SdEK/ACs9AOhYxJkn8AAAABABn5RqQr8AKzG13eST7M/hAAAAE0GbmUmoQWyZTAh3//6plgAAlYAAAAAMQZ+3RRUsL/8AALKBAAAAEAGf1nRCvwArPQDoWMSZJ/EAAAAQAZ/YakK/ACsxtd3kk+zP4AAAABNBm91JqEFsmUwId//+qZYAAJWBAAAADEGf+0UVLC//AACygAAAABABnhp0Qr8AKz0A6FjEmSfxAAAAEAGeHGpCvwArMbXd5JPsz+EAAAATQZoBSahBbJlMCHf//qmWAACVgAAAAAxBnj9FFSwv/wAAsoAAAAAQAZ5edEK/ACs9AOhYxJkn8QAAABABnkBqQr8AKzG13eST7M/gAAAAE0GaRUmoQWyZTAh3//6plgAAlYEAAAAMQZ5jRRUsL/8AALKAAAAAEAGegnRCvwArPQDoWMSZJ/EAAAAQAZ6EakK/ACsxtd3kk+zP4QAAABNBmolJqEFsmUwId//+qZYAAJWBAAAADEGep0UVLC//AACygQAAABABnsZ0Qr8AKz0A6FjEmSfwAAAAEAGeyGpCvwArMbXd5JPsz+AAAAATQZrNSahBbJlMCHf//qmWAACVgQAAAAxBnutFFSwv/wAAsoAAAAAQAZ8KdEK/ACs9AOhYxJkn8AAAABABnwxqQr8AKzG13eST7M/hAAAAE0GbEUmoQWyZTAh3//6plgAAlYEAAAAMQZ8vRRUsL/8AALKBAAAAEAGfTnRCvwArPQDoWMSZJ/AAAAAQAZ9QakK/ACsxtd3kk+zP4AAAABNBm1VJqEFsmUwId//+qZYAAJWBAAAADEGfc0UVLC//AACygAAAABABn5J0Qr8AKz0A6FjEmSfwAAAAEAGflGpCvwArMbXd5JPsz+EAAAATQZuZSahBbJlMCHf//qmWAACVgAAAAAxBn7dFFSwv/wAAsoEAAAAQAZ/WdEK/ACs9AOhYxJkn8QAAABABn9hqQr8AKzG13eST7M/gAAAAE0Gb3UmoQWyZTAh3//6plgAAlYEAAAAMQZ/7RRUsL/8AALKAAAAAEAGeGnRCvwArPQDoWMSZJ/EAAAAQAZ4cakK/ACsxtd3kk+zP4QAAABNBmgFJqEFsmUwId//+qZYAAJWAAAAADEGeP0UVLC//AACygAAAABABnl50Qr8AKz0A6FjEmSfxAAAAEAGeQGpCvwArMbXd5JPsz+AAAAATQZpFSahBbJlMCHf//qmWAACVgQAAAAxBnmNFFSwv/wAAsoAAAAAQAZ6CdEK/ACs9AOhYxJkn8QAAABABnoRqQr8AKzG13eST7M/hAAAAE0GaiUmoQWyZTAh3//6plgAAlYEAAAAMQZ6nRRUsL/8AALKBAAAAEAGexnRCvwArPQDoWMSZJ/AAAAAQAZ7IakK/ACsxtd3kk+zP4AAAABNBms1JqEFsmUwId//+qZYAAJWBAAAADEGe60UVLC//AACygAAAABABnwp0Qr8AKz0A6FjEmSfwAAAAEAGfDGpCvwArMbXd5JPsz+EAAAATQZsRSahBbJlMCHf//qmWAACVgQAAAAxBny9FFSwv/wAAsoEAAAAQAZ9OdEK/ACs9AOhYxJkn8AAAABABn1BqQr8AKzG13eST7M/gAAAAE0GbVUmoQWyZTAh3//6plgAAlYEAAAAMQZ9zRRUsL/8AALKAAAAAEAGfknRCvwArPQDoWMSZJ/AAAAAQAZ+UakK/ACsxtd3kk+zP4QAAABNBm5lJqEFsmUwId//+qZYAAJWAAAAADEGft0UVLC//AACygQAAABABn9Z0Qr8AKz0A6FjEmSfxAAAAEAGf2GpCvwArMbXd5JPsz+AAAAATQZvdSahBbJlMCHf//qmWAACVgQAAAAxBn/tFFSwv/wAAsoAAAAAQAZ4adEK/ACs9AOhYxJkn8QAAABABnhxqQr8AKzG13eST7M/hAAAAE0GaAUmoQWyZTAh3//6plgAAlYAAAAAMQZ4/RRUsL/8AALKAAAAAEAGeXnRCvwArPQDoWMSZJ/EAAAAQAZ5AakK/ACsxtd3kk+zP4AAAABNBmkVJqEFsmUwId//+qZYAAJWBAAAADEGeY0UVLC//AACygAAAABABnoJ0Qr8AKz0A6FjEmSfxAAAAEAGehGpCvwArMbXd5JPsz+EAAAATQZqJSahBbJlMCHf//qmWAACVgQAAAAxBnqdFFSwv/wAAsoEAAAAQAZ7GdEK/ACs9AOhYxJkn8AAAABABnshqQr8AKzG13eST7M/gAAAAE0GazUmoQWyZTAh3//6plgAAlYEAAAAMQZ7rRRUsL/8AALKAAAAAEAGfCnRCvwArPQDoWMSZJ/AAAAAQAZ8MakK/ACsxtd3kk+zP4QAAABNBmxFJqEFsmUwId//+qZYAAJWBAAAADEGfL0UVLC//AACygQAAABABn050Qr8AKz0A6FjEmSfwAAAAEAGfUGpCvwArMbXd5JPsz+AAAAATQZtVSahBbJlMCHf//qmWAACVgQAAAAxBn3NFFSwv/wAAsoAAAAAQAZ+SdEK/ACs9AOhYxJkn8AAAABABn5RqQr8AKzG13eST7M/hAAAAE0GbmUmoQWyZTAh3//6plgAAlYAAAAAMQZ+3RRUsL/8AALKBAAAAEAGf1nRCvwArPQDoWMSZJ/EAAAAQAZ/YakK/ACsxtd3kk+zP4AAAABNBm91JqEFsmUwId//+qZYAAJWBAAAADEGf+0UVLC//AACygAAAABABnhp0Qr8AKz0A6FjEmSfxAAAAEAGeHGpCvwArMbXd5JPsz+EAAAASQZoBSahBbJlMCG///qeEAAEnAAAADEGeP0UVLC//AACygAAAABABnl50Qr8AKz0A6FjEmSfxAAAAEAGeQGpCvwArMbXd5JPsz+AAAAASQZpFSahBbJlMCGf//p4QAAR9AAAADEGeY0UVLC//AACygAAAABABnoJ0Qr8AKz0A6FjEmSfxAAAAEAGehGpCvwArMbXd5JPsz+EAAAAaQZqJS6hCEFskRggoB/IB/YeAIV/+OEAAEXEAAAAjQZ6nRRUsL/8CAdzqS9szCrmA6Bq1qFwJQBlok8LfMpM0nDEAAAAQAZ7GdEK/ACs9AOhYxJkn8AAAACYBnshqQr8Cr2PtQcTdqsNJJuWqhgcstbvO9nQ7s7NJth/Hy6ULbAAADIBtb292AAAAbG12aGQAAAAAAAAAAAAAAAAAAAPoAAAfkAABAAABAAAAAAAAAAAAAAAAAQAAAAAAAAAAAAAAAAAAAAEAAAAAAAAAAAAAAAAAAEAAAAAAAAAAAAAAAAAAAAAAAAAAAAAAAAAAAAAAAAACAAALqnRyYWsAAABcdGtoZAAAAAMAAAAAAAAAAAAAAAEAAAAAAAAfkAAAAAAAAAAAAAAAAAAAAAAAAQAAAAAAAAAAAAAAAAAAAAEAAAAAAAAAAAAAAAAAAEAAAAABEAAAARAAAAAAACRlZHRzAAAAHGVsc3QAAAAAAAAAAQAAH5AAAAQAAAEAAAAACyJtZGlhAAAAIG1kaGQAAAAAAAAAAAAAAAAAADIAAAGUAFXEAAAAAAAtaGRscgAAAAAAAAAAdmlkZQAAAAAAAAAAAAAAAFZpZGVvSGFuZGxlcgAAAArNbWluZgAAABR2bWhkAAAAAQAAAAAAAAAAAAAAJGRpbmYAAAAcZHJlZgAAAAAAAAABAAAADHVybCAAAAABAAAKjXN0YmwAAACVc3RzZAAAAAAAAAABAAAAhWF2YzEAAAAAAAAAAQAAAAAAAAAAAAAAAAAAAAABEAEQAEgAAABIAAAAAAAAAAEAAAAAAAAAAAAAAAAAAAAAAAAAAAAAAAAAAAAAAAAAAAAY//8AAAAvYXZjQwH0AA3/4QAXZ/QADZGbKCIR0IAAAAMAgAAAGQeKFMsBAAVo6+PESAAAABhzdHRzAAAAAAAAAAEAAADKAAACAAAAABRzdHNzAAAAAAAAAAEAAAABAAAGWGN0dHMAAAAAAAAAyQAAAAIAAAQAAAAAAQAACgAAAAABAAAEAAAAAAEAAAAAAAAAAQAAAgAAAAABAAAKAAAAAAEAAAQAAAAAAQAAAAAAAAABAAACAAAAAAEAAAoAAAAAAQAABAAAAAABAAAAAAAAAAEAAAIAAAAAAQAACgAAAAABAAAEAAAAAAEAAAAAAAAAAQAAAgAAAAABAAAKAAAAAAEAAAQAAAAAAQAAAAAAAAABAAACAAAAAAEAAAoAAAAAAQAABAAAAAABAAAAAAAAAAEAAAIAAAAAAQAACgAAAAABAAAEAAAAAAEAAAAAAAAAAQAAAgAAAAABAAAKAAAAAAEAAAQAAAAAAQAAAAAAAAABAAACAAAAAAEAAAoAAAAAAQAABAAAAAABAAAAAAAAAAEAAAIAAAAAAQAACgAAAAABAAAEAAAAAAEAAAAAAAAAAQAAAgAAAAABAAAKAAAAAAEAAAQAAAAAAQAAAAAAAAABAAACAAAAAAEAAAoAAAAAAQAABAAAAAABAAAAAAAAAAEAAAIAAAAAAQAACgAAAAABAAAEAAAAAAEAAAAAAAAAAQAAAgAAAAABAAAKAAAAAAEAAAQAAAAAAQAAAAAAAAABAAACAAAAAAEAAAoAAAAAAQAABAAAAAABAAAAAAAAAAEAAAIAAAAAAQAACgAAAAABAAAEAAAAAAEAAAAAAAAAAQAAAgAAAAABAAAKAAAAAAEAAAQAAAAAAQAAAAAAAAABAAACAAAAAAEAAAoAAAAAAQAABAAAAAABAAAAAAAAAAEAAAIAAAAAAQAACgAAAAABAAAEAAAAAAEAAAAAAAAAAQAAAgAAAAABAAAKAAAAAAEAAAQAAAAAAQAAAAAAAAABAAACAAAAAAEAAAoAAAAAAQAABAAAAAABAAAAAAAAAAEAAAIAAAAAAQAACgAAAAABAAAEAAAAAAEAAAAAAAAAAQAAAgAAAAABAAAKAAAAAAEAAAQAAAAAAQAAAAAAAAABAAACAAAAAAEAAAoAAAAAAQAABAAAAAABAAAAAAAAAAEAAAIAAAAAAQAACgAAAAABAAAEAAAAAAEAAAAAAAAAAQAAAgAAAAABAAAKAAAAAAEAAAQAAAAAAQAAAAAAAAABAAACAAAAAAEAAAoAAAAAAQAABAAAAAABAAAAAAAAAAEAAAIAAAAAAQAACgAAAAABAAAEAAAAAAEAAAAAAAAAAQAAAgAAAAABAAAKAAAAAAEAAAQAAAAAAQAAAAAAAAABAAACAAAAAAEAAAoAAAAAAQAABAAAAAABAAAAAAAAAAEAAAIAAAAAAQAACgAAAAABAAAEAAAAAAEAAAAAAAAAAQAAAgAAAAABAAAKAAAAAAEAAAQAAAAAAQAAAAAAAAABAAACAAAAAAEAAAoAAAAAAQAABAAAAAABAAAAAAAAAAEAAAIAAAAAAQAACgAAAAABAAAEAAAAAAEAAAAAAAAAAQAAAgAAAAABAAAKAAAAAAEAAAQAAAAAAQAAAAAAAAABAAACAAAAAAEAAAoAAAAAAQAABAAAAAABAAAAAAAAAAEAAAIAAAAAAQAACgAAAAABAAAEAAAAAAEAAAAAAAAAAQAAAgAAAAABAAAKAAAAAAEAAAQAAAAAAQAAAAAAAAABAAACAAAAAAEAAAoAAAAAAQAABAAAAAABAAAAAAAAAAEAAAIAAAAAAQAACgAAAAABAAAEAAAAAAEAAAAAAAAAAQAAAgAAAAABAAAKAAAAAAEAAAQAAAAAAQAAAAAAAAABAAACAAAAAAEAAAoAAAAAAQAABAAAAAABAAAAAAAAAAEAAAIAAAAAAQAACgAAAAABAAAEAAAAAAEAAAAAAAAAAQAAAgAAAAABAAAKAAAAAAEAAAQAAAAAAQAAAAAAAAABAAACAAAAAAEAAAoAAAAAAQAABAAAAAABAAAAAAAAAAEAAAIAAAAAAQAACgAAAAABAAAEAAAAAAEAAAAAAAAAAQAAAgAAAAABAAAKAAAAAAEAAAQAAAAAAQAAAAAAAAABAAACAAAAAAEAAAoAAAAAAQAABAAAAAABAAAAAAAAAAEAAAIAAAAAAQAACgAAAAABAAAEAAAAAAEAAAAAAAAAAQAAAgAAAAABAAAKAAAAAAEAAAQAAAAAAQAAAAAAAAABAAACAAAAABxzdHNjAAAAAAAAAAEAAAABAAAAygAAAAEAAAM8c3RzegAAAAAAAAAAAAAAygAABioAAAAYAAAAFQAAAA8AAAAUAAAAFAAAABcAAAAQAAAAFAAAABQAAAAXAAAAEAAAABQAAAAUAAAAFwAAABAAAAAUAAAAFAAAABcAAAAQAAAAFAAAABQAAAAXAAAAEAAAABQAAAAUAAAAFwAAABAAAAAUAAAAFAAAABcAAAAQAAAAFAAAABQAAAAXAAAAEAAAABQAAAAUAAAAFwAAABAAAAAUAAAAFAAAABcAAAAQAAAAFAAAABQAAAAXAAAAEAAAABQAAAAUAAAAFwAAABAAAAAUAAAAFAAAABcAAAAQAAAAFAAAABQAAAAXAAAAEAAAABQAAAAUAAAAFwAAABAAAAAUAAAAFAAAABcAAAAQAAAAFAAAABQAAAAXAAAAEAAAABQAAAAUAAAAFwAAABAAAAAUAAAAFAAAABcAAAAQAAAAFAAAABQAAAAXAAAAEAAAABQAAAAUAAAAFwAAABAAAAAUAAAAFAAAABcAAAAQAAAAFAAAABQAAAAXAAAAEAAAABQAAAAUAAAAFwAAABAAAAAUAAAAFAAAABcAAAAQAAAAFAAAABQAAAAXAAAAEAAAABQAAAAUAAAAFwAAABAAAAAUAAAAFAAAABcAAAAQAAAAFAAAABQAAAAXAAAAEAAAABQAAAAUAAAAFwAAABAAAAAUAAAAFAAAABcAAAAQAAAAFAAAABQAAAAXAAAAEAAAABQAAAAUAAAAFwAAABAAAAAUAAAAFAAAABcAAAAQAAAAFAAAABQAAAAXAAAAEAAAABQAAAAUAAAAFwAAABAAAAAUAAAAFAAAABcAAAAQAAAAFAAAABQAAAAXAAAAEAAAABQAAAAUAAAAFwAAABAAAAAUAAAAFAAAABcAAAAQAAAAFAAAABQAAAAXAAAAEAAAABQAAAAUAAAAFwAAABAAAAAUAAAAFAAAABcAAAAQAAAAFAAAABQAAAAXAAAAEAAAABQAAAAUAAAAFwAAABAAAAAUAAAAFAAAABcAAAAQAAAAFAAAABQAAAAWAAAAEAAAABQAAAAUAAAAFgAAABAAAAAUAAAAFAAAAB4AAAAnAAAAFAAAACoAAAAUc3RjbwAAAAAAAAABAAAAMAAAAGJ1ZHRhAAAAWm1ldGEAAAAAAAAAIWhkbHIAAAAAAAAAAG1kaXJhcHBsAAAAAAAAAAAAAAAALWlsc3QAAAAlqXRvbwAAAB1kYXRhAAAAAQAAAABMYXZmNTcuODMuMTAw\" type=\"video/mp4\" />\n",
              "             </video>"
            ],
            "text/plain": [
              "<IPython.core.display.HTML object>"
            ]
          },
          "metadata": {
            "tags": []
          },
          "execution_count": 50
        }
      ]
    },
    {
      "cell_type": "code",
      "metadata": {
        "id": "Z_dy5-JnqdRG",
        "colab_type": "code",
        "outputId": "da694093-39f4-4495-c7f3-c523e49fd4f2",
        "colab": {
          "base_uri": "https://localhost:8080/",
          "height": 459
        }
      },
      "source": [
        "env = Environment(grid_size=size, max_time=T,temperature=0.15)\n",
        "agent_cnn = DQN_CNN(size, lr=.1, epsilon = 0.1, memory_size=1000, batch_size = 32)\n",
        "agent_cnn.load(name_weights='cnn_trainmodel.h5',name_model='cnn_trainmodel.json')\n",
        "\n",
        "agent_fc = DQN_FC(size, lr=.1, epsilon = 0.1, memory_size=1000, batch_size = 32)\n",
        "agent_cnn.load(name_weights='fc_trainmodel.h5',name_model='fc_trainmodel.json')\n",
        "print('Test of the CNN')\n",
        "test(agent_cnn,env,epochs_test,prefix='cnn_test')\n",
        "print('Test of the FC')\n",
        "test(agent_fc,env,epochs_test,prefix='fc_test')"
      ],
      "execution_count": 20,
      "outputs": [
        {
          "output_type": "stream",
          "text": [
            "Test of the CNN\n",
            "Win/lose count 1.0/1.0. Average score (0.0)\n",
            "Win/lose count 0.5/2.0. Average score (-0.75)\n",
            "Win/lose count 1.0/0. Average score (-0.16666666666666666)\n",
            "Win/lose count 1.0/0. Average score (0.125)\n",
            "Win/lose count 0/0. Average score (0.1)\n",
            "Win/lose count 0/0. Average score (0.08333333333333333)\n",
            "Win/lose count 1.5/5.0. Average score (-0.42857142857142855)\n",
            "Win/lose count 0.5/0. Average score (-0.3125)\n",
            "Win/lose count 2.0/1.0. Average score (-0.16666666666666666)\n",
            "Win/lose count 0.5/2.0. Average score (-0.3)\n",
            "Win/lose count 0/0. Average score (-0.2727272727272727)\n",
            "Final score: -0.2727272727272727\n",
            "Test of the FC\n",
            "Win/lose count 0/1.0. Average score (-1.0)\n",
            "Win/lose count 0/2.0. Average score (-1.5)\n",
            "Win/lose count 1.0/2.0. Average score (-1.3333333333333333)\n",
            "Win/lose count 0.5/0. Average score (-0.875)\n",
            "Win/lose count 0/0. Average score (-0.7)\n",
            "Win/lose count 0.5/0. Average score (-0.5)\n",
            "Win/lose count 0/0. Average score (-0.42857142857142855)\n",
            "Win/lose count 0.5/0. Average score (-0.3125)\n",
            "Win/lose count 0/2.0. Average score (-0.5)\n",
            "Win/lose count 0/0. Average score (-0.45)\n",
            "Win/lose count 0/1.0. Average score (-0.5)\n",
            "Final score: -0.5\n"
          ],
          "name": "stdout"
        }
      ]
    },
    {
      "cell_type": "code",
      "metadata": {
        "id": "iJ4Zqx5Qqdda",
        "colab_type": "code",
        "outputId": "df8bf696-267e-4e91-afbb-f566617264cd",
        "colab": {
          "base_uri": "https://localhost:8080/",
          "height": 459
        }
      },
      "source": [
        "env = Environment(grid_size=size, max_time=T,temperature=0.85)\n",
        "agent_cnn = DQN_CNN(size, lr=.1, epsilon = 0.1, memory_size=1000, batch_size = 32)\n",
        "agent_cnn.load(name_weights='cnn_trainmodel.h5',name_model='cnn_trainmodel.json')\n",
        "\n",
        "agent_fc = DQN_FC(size, lr=.1, epsilon = 0.1, memory_size=1000, batch_size = 32)\n",
        "agent_cnn.load(name_weights='fc_trainmodel.h5',name_model='fc_trainmodel.json')\n",
        "print('Test of the CNN')\n",
        "test(agent_cnn,env,epochs_test,prefix='cnn_test')\n",
        "print('Test of the FC')\n",
        "test(agent_fc,env,epochs_test,prefix='fc_test')"
      ],
      "execution_count": 0,
      "outputs": [
        {
          "output_type": "stream",
          "text": [
            "Test of the CNN\n",
            "Win/lose count 3.0/0. Average score (3.0)\n",
            "Win/lose count 1.5/2.0. Average score (1.25)\n",
            "Win/lose count 1.0/0. Average score (1.1666666666666667)\n",
            "Win/lose count 1.0/1.0. Average score (0.875)\n",
            "Win/lose count 0.5/1.0. Average score (0.6)\n",
            "Win/lose count 1.0/0. Average score (0.6666666666666666)\n",
            "Win/lose count 5.0/1.0. Average score (1.1428571428571428)\n",
            "Win/lose count 5.0/0. Average score (1.625)\n",
            "Win/lose count 0/1.0. Average score (1.3333333333333333)\n",
            "Win/lose count 0.5/0. Average score (1.25)\n",
            "Win/lose count 5.5/1.0. Average score (1.5454545454545454)\n",
            "Final score: 1.5454545454545454\n",
            "Test of the FC\n",
            "Win/lose count 4.0/3.0. Average score (1.0)\n",
            "Win/lose count 3.5/1.0. Average score (1.75)\n",
            "Win/lose count 4.5/1.0. Average score (2.3333333333333335)\n",
            "Win/lose count 2.5/1.0. Average score (2.125)\n",
            "Win/lose count 2.5/0. Average score (2.2)\n",
            "Win/lose count 3.0/0. Average score (2.3333333333333335)\n",
            "Win/lose count 4.0/1.0. Average score (2.4285714285714284)\n",
            "Win/lose count 0.5/0. Average score (2.1875)\n",
            "Win/lose count 5.5/1.0. Average score (2.4444444444444446)\n",
            "Win/lose count 1.5/2.0. Average score (2.15)\n",
            "Win/lose count 1.0/1.0. Average score (1.9545454545454546)\n",
            "Final score: 1.9545454545454546\n"
          ],
          "name": "stdout"
        }
      ]
    },
    {
      "cell_type": "markdown",
      "metadata": {
        "id": "GSQ_-03-hmUH",
        "colab_type": "text"
      },
      "source": [
        "Testing the two types of networks on grids with different temperatures we remark that Convolutional neural networs yields better resutls that Fully connected network since it manages to achieve good positive rewards; Also, Low values of temperature impacts highly the agent score since it appears that he do not manage to retrieve bonus states contrary to environements with high temperature values where the agent get high positive rewards in average. However, It's important to note that when agent get all the time stuck in states with no promising rewards which explains their lack of exploration.\n"
      ]
    },
    {
      "cell_type": "markdown",
      "metadata": {
        "id": "bHIOIiyUhmUI",
        "colab_type": "text"
      },
      "source": [
        "***\n",
        "\n",
        "The algorithm tends to not explore the map which can be an issue. We propose two ideas in order to encourage exploration:\n",
        "1. Incorporating a decreasing $\\epsilon$-greedy exploration. You can use the method ```set_epsilon```\n",
        "2. Append via the environment a new state that describes if a cell has been visited or not\n",
        "\n",
        "***\n",
        "__Question 10__ Design a new ```train_explore``` function and environment class ```EnvironmentExploring``` to tackle the issue of exploration.\n",
        "\n"
      ]
    },
    {
      "cell_type": "code",
      "metadata": {
        "id": "YgAFNFfKhmUJ",
        "colab_type": "code",
        "colab": {}
      },
      "source": [
        "def train_explore(agent,env,epoch,initial_epsilon=0.9, prefix=''):\n",
        "    # Number of won games\n",
        "    score = 0\n",
        "    loss = 0\n",
        "    agent.set_epsilon(initial_epsilon)\n",
        "    for e in range(epoch):\n",
        "        # At each epoch, we restart to a fresh game and get the initial state\n",
        "        state = env.reset()\n",
        "        # This assumes that the games will terminate\n",
        "        game_over = False\n",
        "\n",
        "        win = 0\n",
        "        lose = 0\n",
        "\n",
        "        while not game_over:\n",
        "            # The agent performs an action\n",
        "            action = agent.act(state, train=True)\n",
        "\n",
        "            # Apply an action to the environment, get the next state, the reward\n",
        "            # and if the games end\n",
        "            prev_state = state\n",
        "            state, reward, game_over = env.act(action, train=True)\n",
        "\n",
        "            # Update the counters\n",
        "            if reward > 0:\n",
        "                win = win + reward\n",
        "            if reward < 0:\n",
        "                lose = lose -reward\n",
        "\n",
        "            # Apply the reinforcement strategy\n",
        "            loss = agent.reinforce(prev_state, state,  action, reward, game_over)\n",
        "\n",
        "        # Updating the epsilon of the agent (Decreasing ϵ -greedy exploration)\n",
        "        updated_epsilon = agent.epsilon**2\n",
        "        agent.set_epsilon(updated_epsilon)\n",
        "\n",
        "        # Save as a mp4\n",
        "        if e % 10 == 0:\n",
        "            env.draw(prefix+str(e))\n",
        "            print('Experience of epoch {} saved as : {}'.format(e, prefix+str(e)))\n",
        "\n",
        "        # Update stats\n",
        "        score += win-lose\n",
        "\n",
        "        print(\"Epoch {:03d}/{:03d} | Loss {:.4f} | Win/lose count {}/{} ({})\"\n",
        "              .format(e, epoch, loss, win, lose, win-lose))\n",
        "        agent.save(name_weights=prefix+'model.h5',name_model=prefix+'model.json')\n",
        "        \n",
        "class EnvironmentExploring(Environment):\n",
        "    def __init__(self, grid_size=10, max_time=500, temperature=0.1):\n",
        "        super(EnvironmentExploring, self).__init__(grid_size=grid_size, max_time=max_time, temperature=temperature)\n",
        "        self.malus_position = np.zeros_like(self.board)\n",
        "\n",
        "    def act(self, action , train=False):\n",
        "      \n",
        "      self.get_frame(int(self.t))\n",
        "      self.position = np.zeros((self.grid_size, self.grid_size))\n",
        "      self.position[0:2,:]= -1\n",
        "      self.position[:,0:2] = -1\n",
        "      self.position[-2:, :] = -1\n",
        "      self.position[-2:, :] = -1\n",
        "\n",
        "      self.position[self.x, self.y] = 1\n",
        "      if action == 0:\n",
        "          if self.x == self.grid_size-3:\n",
        "              self.x = self.x-1\n",
        "          else:\n",
        "              self.x = self.x + 1\n",
        "      elif action == 1:\n",
        "          if self.x == 2:\n",
        "              self.x = self.x+1\n",
        "          else:\n",
        "              self.x = self.x-1\n",
        "      elif action == 2:\n",
        "          if self.y == self.grid_size - 3:\n",
        "              self.y = self.y - 1\n",
        "          else:\n",
        "              self.y = self.y + 1\n",
        "      elif action == 3:\n",
        "          if self.y == 2:\n",
        "              self.y = self.y + 1\n",
        "          else:\n",
        "              self.y = self.y - 1\n",
        "      else:\n",
        "          RuntimeError('Error: action not recognized')\n",
        "\n",
        "      self.t = self.t + 1\n",
        "    \n",
        "    # ## In Environment exploring:\n",
        "    # # You will have to change n_state to 3 because you will use one more layer!\n",
        "      reward = 0\n",
        "      if train:\n",
        "          # a negative reward of 0.1 of the position was visited\n",
        "          reward = self.malus_position[self.x, self.y]\n",
        "      # Mark the current position as visited\n",
        "      self.malus_position[self.x, self.y] = -0.1\n",
        "\n",
        "      reward += self.board[self.x, self.y]\n",
        "      self.board[self.x, self.y] = 0\n",
        "      game_over = self.t > self.max_time\n",
        "      # 3 \"feature\" states instead of 2 for this environnement\n",
        "      state = np.concatenate((self.malus_position.reshape(self.grid_size, self.grid_size,1),\n",
        "                              self.board.reshape(self.grid_size, self.grid_size,1),\n",
        "                              self.position.reshape(self.grid_size, self.grid_size,1)),axis=2)\n",
        "      state = state[self.x-2:self.x+3,self.y-2:self.y+3,:]\n",
        "\n",
        "      return state, reward, game_over\n",
        "\n",
        "    def reset(self):\n",
        "\n",
        "        \"\"\"This function resets the game and returns the initial state\"\"\"\n",
        "\n",
        "        self.x = np.random.randint(3, self.grid_size-3, size=1)[0]\n",
        "        self.y = np.random.randint(3, self.grid_size-3, size=1)[0]\n",
        "\n",
        "\n",
        "        bonus = 0.5*np.random.binomial(1,self.temperature,size=self.grid_size**2)\n",
        "        bonus = bonus.reshape(self.grid_size,self.grid_size)\n",
        "\n",
        "        malus = -1.0*np.random.binomial(1,self.temperature,size=self.grid_size**2)\n",
        "        malus = malus.reshape(self.grid_size, self.grid_size)\n",
        "\n",
        "        self.to_draw = np.zeros((self.max_time+2, self.grid_size*self.scale, self.grid_size*self.scale, 3))\n",
        "\n",
        "\n",
        "        malus[bonus>0]=0\n",
        "\n",
        "        self.board = bonus + malus\n",
        "        self.position = np.zeros((self.grid_size, self.grid_size))\n",
        "        self.malus_position = np.zeros((self.grid_size, self.grid_size))\n",
        "        \n",
        "        self.position[0:2,:]= -1\n",
        "        self.position[:,0:2] = -1\n",
        "        self.position[-2:, :] = -1\n",
        "        self.position[-2:, :] = -1\n",
        "        self.board[self.x,self.y] = 0\n",
        "        self.malus_position[self.x,self.y] = -0.1\n",
        "        self.t = 0\n",
        "\n",
        "        state = np.concatenate((self.malus_position.reshape(self.grid_size, self.grid_size,1),\n",
        "                              self.board.reshape(self.grid_size, self.grid_size,1),\n",
        "                              self.position.reshape(self.grid_size, self.grid_size,1)),axis=2)\n",
        "        state = state[self.x - 2:self.x + 3, self.y - 2:self.y + 3, :]\n",
        "        return state\n",
        "\n"
      ],
      "execution_count": 0,
      "outputs": []
    },
    {
      "cell_type": "code",
      "metadata": {
        "id": "X9dMzwaLhmUO",
        "colab_type": "code",
        "outputId": "2c6613bf-ed7d-4ca1-ecae-b53c923af385",
        "colab": {
          "base_uri": "https://localhost:8080/",
          "height": 789
        }
      },
      "source": [
        "# Training\n",
        "env = EnvironmentExploring(grid_size=size, max_time=T, temperature=0.3)\n",
        "agent = DQN_CNN(size, lr=.1, epsilon = 0.1, memory_size=2000, batch_size = 32, n_state=3)\n",
        "train_explore(agent, env, epochs_train, initial_epsilon=0.9, prefix='cnn_train_explore')\n",
        "HTML(display_videos('cnn_train_explore20.mp4'))"
      ],
      "execution_count": 19,
      "outputs": [
        {
          "output_type": "stream",
          "text": [
            "WARNING:tensorflow:From /usr/local/lib/python3.6/dist-packages/keras/backend/tensorflow_backend.py:1033: The name tf.assign_add is deprecated. Please use tf.compat.v1.assign_add instead.\n",
            "\n",
            "WARNING:tensorflow:From /usr/local/lib/python3.6/dist-packages/keras/backend/tensorflow_backend.py:1020: The name tf.assign is deprecated. Please use tf.compat.v1.assign instead.\n",
            "\n",
            "Experience of epoch 0 saved as : cnn_train_explore0\n",
            "Epoch 000/021 | Loss 0.0135 | Win/lose count 10.5/28.200000000000067 (-17.700000000000067)\n",
            "Epoch 001/021 | Loss 0.0128 | Win/lose count 8.0/23.10000000000003 (-15.10000000000003)\n",
            "Epoch 002/021 | Loss 0.0155 | Win/lose count 14.0/22.200000000000063 (-8.200000000000063)\n",
            "Epoch 003/021 | Loss 0.0171 | Win/lose count 15.0/18.1 (-3.1000000000000014)\n",
            "Epoch 004/021 | Loss 0.0193 | Win/lose count 14.5/20.700000000000003 (-6.200000000000003)\n",
            "Epoch 005/021 | Loss 0.0171 | Win/lose count 11.0/19.600000000000016 (-8.600000000000016)\n",
            "Epoch 006/021 | Loss 0.0188 | Win/lose count 12.5/16.899999999999974 (-4.399999999999974)\n",
            "Epoch 007/021 | Loss 0.0255 | Win/lose count 8.0/19.90000000000002 (-11.90000000000002)\n",
            "Epoch 008/021 | Loss 0.0117 | Win/lose count 8.5/16.09999999999996 (-7.599999999999959)\n",
            "Epoch 009/021 | Loss 0.0082 | Win/lose count 8.0/17.399999999999977 (-9.399999999999977)\n",
            "Experience of epoch 10 saved as : cnn_train_explore10\n",
            "Epoch 010/021 | Loss 0.0166 | Win/lose count 16.0/15.799999999999963 (0.2000000000000366)\n",
            "Epoch 011/021 | Loss 0.0130 | Win/lose count 14.5/14.299999999999965 (0.20000000000003482)\n",
            "Epoch 012/021 | Loss 0.0229 | Win/lose count 15.5/15.099999999999962 (0.40000000000003766)\n",
            "Epoch 013/021 | Loss 0.0106 | Win/lose count 16.0/16.09999999999996 (-0.09999999999995879)\n",
            "Epoch 014/021 | Loss 0.0090 | Win/lose count 10.0/18.099999999999987 (-8.099999999999987)\n",
            "Epoch 015/021 | Loss 0.0130 | Win/lose count 17.0/17.799999999999994 (-0.7999999999999936)\n",
            "Epoch 016/021 | Loss 0.0146 | Win/lose count 23.5/15.399999999999968 (8.100000000000032)\n",
            "Epoch 017/021 | Loss 0.0082 | Win/lose count 3.0/19.200000000000003 (-16.200000000000003)\n",
            "Epoch 018/021 | Loss 0.0092 | Win/lose count 17.5/16.59999999999997 (0.9000000000000306)\n",
            "Epoch 019/021 | Loss 0.0117 | Win/lose count 21.0/16.399999999999967 (4.600000000000033)\n",
            "Experience of epoch 20 saved as : cnn_train_explore20\n",
            "Epoch 020/021 | Loss 0.0202 | Win/lose count 13.0/14.999999999999963 (-1.9999999999999627)\n"
          ],
          "name": "stdout"
        },
        {
          "output_type": "execute_result",
          "data": {
            "text/html": [
              "<video alt=\"test\" controls>\n",
              "                <source src=\"data:video/mp4;base64,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\" type=\"video/mp4\" />\n",
              "             </video>"
            ],
            "text/plain": [
              "<IPython.core.display.HTML object>"
            ]
          },
          "metadata": {
            "tags": []
          },
          "execution_count": 19
        }
      ]
    },
    {
      "cell_type": "code",
      "metadata": {
        "id": "dB0IfiOkhmUT",
        "colab_type": "code",
        "outputId": "6dd269f4-ac67-4fc1-a30d-2397df717a36",
        "colab": {
          "base_uri": "https://localhost:8080/",
          "height": 497
        }
      },
      "source": [
        "# Evaluation\n",
        "test(agent,env,epochs_test,prefix='cnn_test_explore')\n",
        "HTML(display_videos('cnn_test_explore10.mp4'))"
      ],
      "execution_count": 23,
      "outputs": [
        {
          "output_type": "stream",
          "text": [
            "Win/lose count 13.0/3.0. Average score (10.0)\n",
            "Win/lose count 7.0/0. Average score (8.5)\n",
            "Win/lose count 14.5/2.0. Average score (9.833333333333334)\n",
            "Win/lose count 29.5/4.0. Average score (13.75)\n",
            "Win/lose count 17.0/2.0. Average score (14.0)\n",
            "Win/lose count 13.0/1.0. Average score (13.666666666666666)\n",
            "Win/lose count 13.0/0. Average score (13.571428571428571)\n",
            "Win/lose count 16.0/0. Average score (13.875)\n",
            "Win/lose count 9.5/1.0. Average score (13.277777777777779)\n",
            "Win/lose count 5.5/3.0. Average score (12.2)\n",
            "Win/lose count 11.5/3.0. Average score (11.863636363636363)\n",
            "Final score: 11.863636363636363\n"
          ],
          "name": "stdout"
        },
        {
          "output_type": "execute_result",
          "data": {
            "text/html": [
              "<video alt=\"test\" controls>\n",
              "                <source src=\"data:video/mp4;base64,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\" type=\"video/mp4\" />\n",
              "             </video>"
            ],
            "text/plain": [
              "<IPython.core.display.HTML object>"
            ]
          },
          "metadata": {
            "tags": []
          },
          "execution_count": 23
        }
      ]
    },
    {
      "cell_type": "markdown",
      "metadata": {
        "id": "9KOZtKYuwvMP",
        "colab_type": "text"
      },
      "source": [
        "In order to boost the performance of the agent and enhance it's exploration capability, we used the two proposed ameliorations by corporating (a decreasing  $\\epsilon$-greedy exploration and a new state that describes if a cell has been visited or not). Thus, when testing them on the new agent, it appears that they helped increasing the rewards and the exploration on the test phase. Contrary to previous experiences, the agent is able to collect large positive rewards (>15) from the grid. However, when the agent is stuck in one of the corners with no positive rewards, he don't manage to escape from it, but he showed a great ability to dodge negative rewards. "
      ]
    },
    {
      "cell_type": "markdown",
      "metadata": {
        "id": "gVct5FlthmUY",
        "colab_type": "text"
      },
      "source": [
        "***\n",
        "***\n",
        "__BONUS question__ Use the expert DQN from the previous question to generate some winning games. Train a model that mimicks its behavior. Compare the performances."
      ]
    },
    {
      "cell_type": "markdown",
      "metadata": {
        "id": "cDzQU7iVhmUa",
        "colab_type": "text"
      },
      "source": [
        "For this question, we will train an FC agent to mimic the behavior of the expert DQN CNN agent trained before. For this purpose, we will use the same train function as before. but with the use of actions proposed by the expert DQN and a direct reinforcement of the FC agent.  \n",
        "The FC agent will have only 2 states as before and \n"
      ]
    },
    {
      "cell_type": "markdown",
      "metadata": {
        "id": "iz53RnmVhmUc",
        "colab_type": "text"
      },
      "source": [
        "***"
      ]
    },
    {
      "cell_type": "code",
      "metadata": {
        "id": "iCuZOFBOFhgF",
        "colab_type": "code",
        "colab": {}
      },
      "source": [
        "def train_mimic(expert_agent, mimic_agent, env,epoch, verbose=True, prefix=''):\n",
        "    # Number of won games\n",
        "    score = 0\n",
        "    loss = 0\n",
        "    for e in range(epoch):\n",
        "        # At each epoch, we restart to a fresh game and get the initial state\n",
        "        state = env.reset()\n",
        "        # This assumes that the games will terminate\n",
        "        game_over = False\n",
        "\n",
        "        win = 0\n",
        "        lose = 0\n",
        "\n",
        "        while not game_over:\n",
        "            # The expert agent performs an action as if it was tested \n",
        "            action = expert_agent.act(state, train=False)\n",
        "\n",
        "            # Apply an action to the environment, get the next state, the reward\n",
        "            # and if the games end\n",
        "            prev_state = state\n",
        "            state, reward, game_over = env.act(action)\n",
        "\n",
        "            # Update the counters\n",
        "            if reward > 0:\n",
        "                win = win + reward\n",
        "            if reward < 0:\n",
        "                lose = lose -reward\n",
        "\n",
        "            # Apply the reinforcement strategy\n",
        "            # We consider that the agent will have a number of states equal to 2 'as before'.\n",
        "            # for that we modify prev_state and state in order to not take account of the malus position loss \n",
        "            loss = mimic_agent.reinforce(prev_state[:,:,1:], state[:,:,1:],  action, reward, game_over)\n",
        "\n",
        "        # Save as a mp4\n",
        "        if e % 10 == 0:\n",
        "            env.draw(prefix+str(e))\n",
        "            print('Experience of epoch {} saved as : {}'.format(e, prefix+str(e)))\n",
        "\n",
        "        # Update stats\n",
        "        score += win-lose\n",
        "        if verbose :\n",
        "          print(\"Epoch {:03d}/{:03d} | Loss {:.4f} | Win/lose count {}/{} ({})\"\n",
        "                .format(e, epoch, loss, win, lose, win-lose))\n",
        "        else :\n",
        "          if e % 10 == 0:\n",
        "            print(\"Epoch {:03d}/{:03d} | Loss {:.4f} | Win/lose count {}/{} ({})\"\n",
        "                .format(e, epoch, loss, win, lose, win-lose))\n",
        "        mimic_agent.save(name_weights=prefix+'model.h5',name_model=prefix+'model.json')\n",
        "    \n"
      ],
      "execution_count": 0,
      "outputs": []
    },
    {
      "cell_type": "code",
      "metadata": {
        "id": "TiYaIV8-GzHC",
        "colab_type": "code",
        "colab": {
          "base_uri": "https://localhost:8080/",
          "height": 667
        },
        "outputId": "ed25f1e0-23af-4f9b-901d-2e50eb352934"
      },
      "source": [
        "expert_DQN = agent\n",
        "env = EnvironmentExploring(grid_size=size, max_time=T, temperature=0.3)\n",
        "agent_fc = DQN_FC(size, lr=.1, epsilon = 0.1, memory_size=2000, batch_size = 32)\n",
        "train_mimic(expert_DQN, agent_fc, env, epoch=20, prefix='fc_train_mimic')\n",
        "HTML(display_videos('fc_train_mimic20.mp4'))"
      ],
      "execution_count": 37,
      "outputs": [
        {
          "output_type": "stream",
          "text": [
            "Experience of epoch 0 saved as : fc_train_mimic0\n",
            "Epoch 000/020 | Loss 0.0090 | Win/lose count 8.0/0 (8.0)\n",
            "Epoch 001/020 | Loss 0.0024 | Win/lose count 11.5/2.0 (9.5)\n",
            "Epoch 002/020 | Loss 0.0059 | Win/lose count 1.5/0 (1.5)\n",
            "Epoch 003/020 | Loss 0.0078 | Win/lose count 9.5/1.0 (8.5)\n",
            "Epoch 004/020 | Loss 0.0080 | Win/lose count 6.0/0 (6.0)\n",
            "Epoch 005/020 | Loss 0.0043 | Win/lose count 10.0/1.0 (9.0)\n",
            "Epoch 006/020 | Loss 0.0035 | Win/lose count 15.0/0 (15.0)\n",
            "Epoch 007/020 | Loss 0.0049 | Win/lose count 12.5/1.0 (11.5)\n",
            "Epoch 008/020 | Loss 0.0081 | Win/lose count 3.5/0 (3.5)\n",
            "Epoch 009/020 | Loss 0.0053 | Win/lose count 8.5/0 (8.5)\n",
            "Experience of epoch 10 saved as : fc_train_mimic10\n",
            "Epoch 010/020 | Loss 0.0030 | Win/lose count 11.5/1.0 (10.5)\n",
            "Epoch 011/020 | Loss 0.0124 | Win/lose count 5.5/1.0 (4.5)\n",
            "Epoch 012/020 | Loss 0.0142 | Win/lose count 14.0/1.0 (13.0)\n",
            "Epoch 013/020 | Loss 0.0045 | Win/lose count 3.5/0 (3.5)\n",
            "Epoch 014/020 | Loss 0.0066 | Win/lose count 17.5/1.0 (16.5)\n",
            "Epoch 015/020 | Loss 0.0036 | Win/lose count 5.0/2.0 (3.0)\n",
            "Epoch 016/020 | Loss 0.0157 | Win/lose count 8.5/0 (8.5)\n",
            "Epoch 017/020 | Loss 0.0065 | Win/lose count 16.0/0 (16.0)\n",
            "Epoch 018/020 | Loss 0.0023 | Win/lose count 19.5/3.0 (16.5)\n",
            "Epoch 019/020 | Loss 0.0006 | Win/lose count 2.0/1.0 (1.0)\n"
          ],
          "name": "stdout"
        },
        {
          "output_type": "execute_result",
          "data": {
            "text/html": [
              "<video alt=\"test\" controls>\n",
              "                <source src=\"data:video/mp4;base64,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\" type=\"video/mp4\" />\n",
              "             </video>"
            ],
            "text/plain": [
              "<IPython.core.display.HTML object>"
            ]
          },
          "metadata": {
            "tags": []
          },
          "execution_count": 37
        }
      ]
    },
    {
      "cell_type": "markdown",
      "metadata": {
        "id": "6pug-RPCLbIz",
        "colab_type": "text"
      },
      "source": [
        "We will Evaluate the FC agent:"
      ]
    },
    {
      "cell_type": "code",
      "metadata": {
        "id": "gNBfRfpZLoGX",
        "colab_type": "code",
        "colab": {
          "base_uri": "https://localhost:8080/",
          "height": 238
        },
        "outputId": "6cc81017-724d-4129-c487-d0959567de7e"
      },
      "source": [
        "env = Environment(grid_size=size, max_time=T,temperature=0.3)\n",
        "print('Test of the FC')\n",
        "test(agent_fc,env,epochs_test,prefix='fc_mimic_test')"
      ],
      "execution_count": 40,
      "outputs": [
        {
          "output_type": "stream",
          "text": [
            "Test of the FC\n",
            "Win/lose count 1.0/2.0. Average score (-1.0)\n",
            "Win/lose count 2.0/4.0. Average score (-1.5)\n",
            "Win/lose count 0/0. Average score (-1.0)\n",
            "Win/lose count 0/1.0. Average score (-1.0)\n",
            "Win/lose count 0.5/0. Average score (-0.7)\n",
            "Win/lose count 0.5/1.0. Average score (-0.6666666666666666)\n",
            "Win/lose count 0.5/3.0. Average score (-0.9285714285714286)\n",
            "Win/lose count 0/2.0. Average score (-1.0625)\n",
            "Win/lose count 0/0. Average score (-0.9444444444444444)\n",
            "Win/lose count 3.0/3.0. Average score (-0.85)\n",
            "Win/lose count 2.5/3.0. Average score (-0.8181818181818182)\n",
            "Final score: -0.8181818181818182\n"
          ],
          "name": "stdout"
        }
      ]
    },
    {
      "cell_type": "code",
      "metadata": {
        "id": "Hvv8XicYMw30",
        "colab_type": "code",
        "colab": {
          "base_uri": "https://localhost:8080/",
          "height": 293
        },
        "outputId": "18590081-3987-47ae-d5b2-916ac579cdfe"
      },
      "source": [
        "HTML(display_videos('fc_mimic_test10.mp4'))"
      ],
      "execution_count": 41,
      "outputs": [
        {
          "output_type": "execute_result",
          "data": {
            "text/html": [
              "<video alt=\"test\" controls>\n",
              "                <source src=\"data:video/mp4;base64,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\" type=\"video/mp4\" />\n",
              "             </video>"
            ],
            "text/plain": [
              "<IPython.core.display.HTML object>"
            ]
          },
          "metadata": {
            "tags": []
          },
          "execution_count": 41
        }
      ]
    },
    {
      "cell_type": "markdown",
      "metadata": {
        "id": "LTGkNQNGOwbk",
        "colab_type": "text"
      },
      "source": [
        "Surprisingly, the FC agent is not performing well and he's just juggling between 2 states at a certain time. he don't manage to get large positive rewards on the long term as for the expert DQN agent.  \n",
        "We will train another network to see if this behavior changes.  "
      ]
    },
    {
      "cell_type": "code",
      "metadata": {
        "id": "ELKBAyTSQJzX",
        "colab_type": "code",
        "colab": {}
      },
      "source": [
        "class DQN_FC_2(DQN):\n",
        "    def __init__(self, *args, lr=0.1,**kwargs):\n",
        "        super(DQN_FC_2, self).__init__( *args,**kwargs)\n",
        "        \n",
        "        # NN Model\n",
        "\n",
        "        model = Sequential(layers = [Flatten(input_shape=(5, 5, self.n_state)),\n",
        "                                    Dense(50, activation=\"relu\"),\n",
        "                                    Dropout(0.3),\n",
        "                                    Dense(4)])\n",
        "        model.compile(sgd(lr=lr, decay=1e-4, momentum=0.0), \"mse\")\n",
        "        self.model = model"
      ],
      "execution_count": 0,
      "outputs": []
    },
    {
      "cell_type": "code",
      "metadata": {
        "id": "Q71agyxENN-x",
        "colab_type": "code",
        "colab": {
          "base_uri": "https://localhost:8080/",
          "height": 888
        },
        "outputId": "57c1892f-2b65-4f94-9763-00449e8bff7f"
      },
      "source": [
        "expert_DQN = agent\n",
        "env = EnvironmentExploring(grid_size=size, max_time=T, temperature=0.3)\n",
        "agent_fc = DQN_FC_2(size, lr=.1, epsilon = 0.1, memory_size=2000, batch_size = 32)\n",
        "train_mimic(expert_DQN, agent_fc, env, epoch=31, prefix='fc2_train_mimic')\n",
        "HTML(display_videos('fc2_train_mimic30.mp4'))"
      ],
      "execution_count": 48,
      "outputs": [
        {
          "output_type": "stream",
          "text": [
            "Experience of epoch 0 saved as : fc2_train_mimic0\n",
            "Epoch 000/031 | Loss 0.0042 | Win/lose count 3.5/0 (3.5)\n",
            "Epoch 001/031 | Loss 0.0166 | Win/lose count 12.5/1.0 (11.5)\n",
            "Epoch 002/031 | Loss 0.0218 | Win/lose count 8.0/1.0 (7.0)\n",
            "Epoch 003/031 | Loss 0.0167 | Win/lose count 7.5/0 (7.5)\n",
            "Epoch 004/031 | Loss 0.0124 | Win/lose count 7.5/0 (7.5)\n",
            "Epoch 005/031 | Loss 0.0100 | Win/lose count 11.5/1.0 (10.5)\n",
            "Epoch 006/031 | Loss 0.0112 | Win/lose count 6.5/0 (6.5)\n",
            "Epoch 007/031 | Loss 0.0032 | Win/lose count 10.5/2.0 (8.5)\n",
            "Epoch 008/031 | Loss 0.0150 | Win/lose count 14.0/4.0 (10.0)\n",
            "Epoch 009/031 | Loss 0.0168 | Win/lose count 12.0/2.0 (10.0)\n",
            "Experience of epoch 10 saved as : fc2_train_mimic10\n",
            "Epoch 010/031 | Loss 0.0081 | Win/lose count 7.5/0 (7.5)\n",
            "Epoch 011/031 | Loss 0.0088 | Win/lose count 6.5/1.0 (5.5)\n",
            "Epoch 012/031 | Loss 0.0043 | Win/lose count 8.0/0 (8.0)\n",
            "Epoch 013/031 | Loss 0.0097 | Win/lose count 10.5/1.0 (9.5)\n",
            "Epoch 014/031 | Loss 0.0093 | Win/lose count 7.5/1.0 (6.5)\n",
            "Epoch 015/031 | Loss 0.0033 | Win/lose count 0.5/0 (0.5)\n",
            "Epoch 016/031 | Loss 0.0054 | Win/lose count 6.0/1.0 (5.0)\n",
            "Epoch 017/031 | Loss 0.0127 | Win/lose count 20.0/3.0 (17.0)\n",
            "Epoch 018/031 | Loss 0.0122 | Win/lose count 16.0/0 (16.0)\n",
            "Epoch 019/031 | Loss 0.0124 | Win/lose count 18.0/2.0 (16.0)\n",
            "Experience of epoch 20 saved as : fc2_train_mimic20\n",
            "Epoch 020/031 | Loss 0.0140 | Win/lose count 17.0/1.0 (16.0)\n",
            "Epoch 021/031 | Loss 0.0054 | Win/lose count 1.5/0 (1.5)\n",
            "Epoch 022/031 | Loss 0.0043 | Win/lose count 13.0/2.0 (11.0)\n",
            "Epoch 023/031 | Loss 0.0063 | Win/lose count 9.0/1.0 (8.0)\n",
            "Epoch 024/031 | Loss 0.0124 | Win/lose count 13.5/0 (13.5)\n",
            "Epoch 025/031 | Loss 0.0102 | Win/lose count 4.5/2.0 (2.5)\n",
            "Epoch 026/031 | Loss 0.0052 | Win/lose count 15.5/2.0 (13.5)\n",
            "Epoch 027/031 | Loss 0.0110 | Win/lose count 17.0/0 (17.0)\n",
            "Epoch 028/031 | Loss 0.0101 | Win/lose count 9.0/1.0 (8.0)\n",
            "Epoch 029/031 | Loss 0.0076 | Win/lose count 16.0/2.0 (14.0)\n",
            "Experience of epoch 30 saved as : fc2_train_mimic30\n",
            "Epoch 030/031 | Loss 0.0240 | Win/lose count 13.0/0 (13.0)\n"
          ],
          "name": "stdout"
        },
        {
          "output_type": "execute_result",
          "data": {
            "text/html": [
              "<video alt=\"test\" controls>\n",
              "                <source src=\"data:video/mp4;base64,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\" type=\"video/mp4\" />\n",
              "             </video>"
            ],
            "text/plain": [
              "<IPython.core.display.HTML object>"
            ]
          },
          "metadata": {
            "tags": []
          },
          "execution_count": 48
        }
      ]
    },
    {
      "cell_type": "code",
      "metadata": {
        "id": "N0idjNJuSmNK",
        "colab_type": "code",
        "colab": {
          "base_uri": "https://localhost:8080/",
          "height": 514
        },
        "outputId": "831ad173-28fa-4136-91e8-bb64c89b8a3f"
      },
      "source": [
        "env = Environment(grid_size=size, max_time=T,temperature=0.3)\n",
        "print('Test of the FC')\n",
        "test(agent_fc,env,epochs_test,prefix='fc2_mimic_test')\n",
        "HTML(display_videos('fc2_mimic_test10.mp4'))"
      ],
      "execution_count": 56,
      "outputs": [
        {
          "output_type": "stream",
          "text": [
            "Test of the FC\n",
            "Win/lose count 5.0/1.0. Average score (4.0)\n",
            "Win/lose count 5.5/2.0. Average score (3.75)\n",
            "Win/lose count 2.5/0. Average score (3.3333333333333335)\n",
            "Win/lose count 4.5/1.0. Average score (3.375)\n",
            "Win/lose count 0.5/0. Average score (2.8)\n",
            "Win/lose count 7.0/1.0. Average score (3.3333333333333335)\n",
            "Win/lose count 3.0/0. Average score (3.2857142857142856)\n",
            "Win/lose count 5.5/0. Average score (3.5625)\n",
            "Win/lose count 0.5/0. Average score (3.2222222222222223)\n",
            "Win/lose count 2.0/0. Average score (3.1)\n",
            "Win/lose count 9.5/5.0. Average score (3.227272727272727)\n",
            "Final score: 3.227272727272727\n"
          ],
          "name": "stdout"
        },
        {
          "output_type": "execute_result",
          "data": {
            "text/html": [
              "<video alt=\"test\" controls>\n",
              "                <source src=\"data:video/mp4;base64,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\" type=\"video/mp4\" />\n",
              "             </video>"
            ],
            "text/plain": [
              "<IPython.core.display.HTML object>"
            ]
          },
          "metadata": {
            "tags": []
          },
          "execution_count": 56
        }
      ]
    },
    {
      "cell_type": "markdown",
      "metadata": {
        "id": "zVFRgv8yVMjJ",
        "colab_type": "text"
      },
      "source": [
        "In fact, using a smaller network with only one layer, the agent is performing well on average compared to it's previous performance with a normal training. However, he's not yet able to retrieve larger rewards as the expert DQN (It can be due to the additional state the expert is given??). "
      ]
    }
  ]
}